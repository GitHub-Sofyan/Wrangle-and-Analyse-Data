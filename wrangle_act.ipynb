{
 "cells": [
  {
   "cell_type": "markdown",
   "metadata": {},
   "source": [
    "# Project Wrangling & Analyzing Data - WeRateDogs Twitter"
   ]
  },
  {
   "cell_type": "markdown",
   "metadata": {},
   "source": [
    "This is for Project Wrangling and Analysing Data - WeRateDogs Twitter\n",
    "\n",
    "The whole project consist of 5 Stages:\n",
    "1) Stage 1 - Gathering data\n",
    "2) Stage 2 - Assessing data\n",
    "3) Stage 3 - Cleaning data\n",
    "4) Stage 4 - Storing, analyzing, and \n",
    "5) Stage 5 - Visualizing your wrangled data"
   ]
  },
  {
   "cell_type": "markdown",
   "metadata": {},
   "source": [
    "## Stage 0 - Preparation of Battlefield - Loading of all relevant dependancies and libaries"
   ]
  },
  {
   "cell_type": "code",
   "execution_count": 1,
   "metadata": {},
   "outputs": [],
   "source": [
    "# Stage 0 - Preparation of Battlefield - Loading of all relevant (standard battlepack) dependancies and libaries\n",
    "import pandas as pd \n",
    "import numpy as np\n",
    "import tweepy\n",
    "import requests\n",
    "import json\n",
    "import os \n",
    "import re\n",
    "import time\n",
    "import csv\n",
    "import sys\n",
    "import warnings\n",
    "import datetime as dt\n",
    "import seaborn as sns\n",
    "import matplotlib.pyplot\n",
    "from sklearn.decomposition import PCA\n",
    "from sklearn.preprocessing import StandardScaler\n",
    "import scipy.stats as stats # Import Statistical Package for analysis\n",
    "import matplotlib.pyplot as plt  # For Visualisation \n",
    "%matplotlib inline"
   ]
  },
  {
   "cell_type": "markdown",
   "metadata": {},
   "source": [
    "##  Stage 1 - Gathering Data\n",
    "\n",
    "Data that was to be wrangled and analysed was available from 3 different sources. These data were either given (twitter-archive-enhanced.csv) or requested from different sources. These datas were be loaded as 3 different dataframes\n",
    "\n",
    "1)\tGiven (Existing file): - A csv file that was given directly. This csv file titled (twitter-archive-enhanced.csv) is the main @dog _rates twitter archive. The data it contained are (for, e.g.) tweet id and the tweet texts. \n",
    "\n",
    "2)\tRequest from an external source: - a tsv file titled (image_predictions.tsv) that contained the dog breed predictions from a neural network. This data was available from an external source (hosted on Udacity servers - here). To gather this data, request methods had to be used to gather this data.\n",
    "\n",
    "3)\tRequest (Query) from an external source + written to json format: - tweets were extracted through the utilisation of twitter’s API and then written to a text file (tweet_json.txt) in JavaScript Object Notation (json) format. \n"
   ]
  },
  {
   "cell_type": "code",
   "execution_count": 2,
   "metadata": {},
   "outputs": [
    {
     "name": "stdout",
     "output_type": "stream",
     "text": [
      "C:\\Users\\sofya_000\\Python Notebooks\\Udacity Nanodegree\\Data Analyst\\Project - Wrangle and Analyse Data\n"
     ]
    },
    {
     "data": {
      "text/html": [
       "<div>\n",
       "<style scoped>\n",
       "    .dataframe tbody tr th:only-of-type {\n",
       "        vertical-align: middle;\n",
       "    }\n",
       "\n",
       "    .dataframe tbody tr th {\n",
       "        vertical-align: top;\n",
       "    }\n",
       "\n",
       "    .dataframe thead th {\n",
       "        text-align: right;\n",
       "    }\n",
       "</style>\n",
       "<table border=\"1\" class=\"dataframe\">\n",
       "  <thead>\n",
       "    <tr style=\"text-align: right;\">\n",
       "      <th></th>\n",
       "      <th>tweet_id</th>\n",
       "      <th>in_reply_to_status_id</th>\n",
       "      <th>in_reply_to_user_id</th>\n",
       "      <th>timestamp</th>\n",
       "      <th>source</th>\n",
       "      <th>text</th>\n",
       "      <th>retweeted_status_id</th>\n",
       "      <th>retweeted_status_user_id</th>\n",
       "      <th>retweeted_status_timestamp</th>\n",
       "      <th>expanded_urls</th>\n",
       "      <th>rating_numerator</th>\n",
       "      <th>rating_denominator</th>\n",
       "      <th>name</th>\n",
       "      <th>doggo</th>\n",
       "      <th>floofer</th>\n",
       "      <th>pupper</th>\n",
       "      <th>puppo</th>\n",
       "    </tr>\n",
       "  </thead>\n",
       "  <tbody>\n",
       "    <tr>\n",
       "      <th>0</th>\n",
       "      <td>892420643555336193</td>\n",
       "      <td>NaN</td>\n",
       "      <td>NaN</td>\n",
       "      <td>2017-08-01 16:23:56 +0000</td>\n",
       "      <td>&lt;a href=\"http://twitter.com/download/iphone\" r...</td>\n",
       "      <td>This is Phineas. He's a mystical boy. Only eve...</td>\n",
       "      <td>NaN</td>\n",
       "      <td>NaN</td>\n",
       "      <td>NaN</td>\n",
       "      <td>https://twitter.com/dog_rates/status/892420643...</td>\n",
       "      <td>13</td>\n",
       "      <td>10</td>\n",
       "      <td>Phineas</td>\n",
       "      <td>None</td>\n",
       "      <td>None</td>\n",
       "      <td>None</td>\n",
       "      <td>None</td>\n",
       "    </tr>\n",
       "    <tr>\n",
       "      <th>1</th>\n",
       "      <td>892177421306343426</td>\n",
       "      <td>NaN</td>\n",
       "      <td>NaN</td>\n",
       "      <td>2017-08-01 00:17:27 +0000</td>\n",
       "      <td>&lt;a href=\"http://twitter.com/download/iphone\" r...</td>\n",
       "      <td>This is Tilly. She's just checking pup on you....</td>\n",
       "      <td>NaN</td>\n",
       "      <td>NaN</td>\n",
       "      <td>NaN</td>\n",
       "      <td>https://twitter.com/dog_rates/status/892177421...</td>\n",
       "      <td>13</td>\n",
       "      <td>10</td>\n",
       "      <td>Tilly</td>\n",
       "      <td>None</td>\n",
       "      <td>None</td>\n",
       "      <td>None</td>\n",
       "      <td>None</td>\n",
       "    </tr>\n",
       "    <tr>\n",
       "      <th>2</th>\n",
       "      <td>891815181378084864</td>\n",
       "      <td>NaN</td>\n",
       "      <td>NaN</td>\n",
       "      <td>2017-07-31 00:18:03 +0000</td>\n",
       "      <td>&lt;a href=\"http://twitter.com/download/iphone\" r...</td>\n",
       "      <td>This is Archie. He is a rare Norwegian Pouncin...</td>\n",
       "      <td>NaN</td>\n",
       "      <td>NaN</td>\n",
       "      <td>NaN</td>\n",
       "      <td>https://twitter.com/dog_rates/status/891815181...</td>\n",
       "      <td>12</td>\n",
       "      <td>10</td>\n",
       "      <td>Archie</td>\n",
       "      <td>None</td>\n",
       "      <td>None</td>\n",
       "      <td>None</td>\n",
       "      <td>None</td>\n",
       "    </tr>\n",
       "    <tr>\n",
       "      <th>3</th>\n",
       "      <td>891689557279858688</td>\n",
       "      <td>NaN</td>\n",
       "      <td>NaN</td>\n",
       "      <td>2017-07-30 15:58:51 +0000</td>\n",
       "      <td>&lt;a href=\"http://twitter.com/download/iphone\" r...</td>\n",
       "      <td>This is Darla. She commenced a snooze mid meal...</td>\n",
       "      <td>NaN</td>\n",
       "      <td>NaN</td>\n",
       "      <td>NaN</td>\n",
       "      <td>https://twitter.com/dog_rates/status/891689557...</td>\n",
       "      <td>13</td>\n",
       "      <td>10</td>\n",
       "      <td>Darla</td>\n",
       "      <td>None</td>\n",
       "      <td>None</td>\n",
       "      <td>None</td>\n",
       "      <td>None</td>\n",
       "    </tr>\n",
       "    <tr>\n",
       "      <th>4</th>\n",
       "      <td>891327558926688256</td>\n",
       "      <td>NaN</td>\n",
       "      <td>NaN</td>\n",
       "      <td>2017-07-29 16:00:24 +0000</td>\n",
       "      <td>&lt;a href=\"http://twitter.com/download/iphone\" r...</td>\n",
       "      <td>This is Franklin. He would like you to stop ca...</td>\n",
       "      <td>NaN</td>\n",
       "      <td>NaN</td>\n",
       "      <td>NaN</td>\n",
       "      <td>https://twitter.com/dog_rates/status/891327558...</td>\n",
       "      <td>12</td>\n",
       "      <td>10</td>\n",
       "      <td>Franklin</td>\n",
       "      <td>None</td>\n",
       "      <td>None</td>\n",
       "      <td>None</td>\n",
       "      <td>None</td>\n",
       "    </tr>\n",
       "  </tbody>\n",
       "</table>\n",
       "</div>"
      ],
      "text/plain": [
       "             tweet_id  in_reply_to_status_id  in_reply_to_user_id  \\\n",
       "0  892420643555336193                    NaN                  NaN   \n",
       "1  892177421306343426                    NaN                  NaN   \n",
       "2  891815181378084864                    NaN                  NaN   \n",
       "3  891689557279858688                    NaN                  NaN   \n",
       "4  891327558926688256                    NaN                  NaN   \n",
       "\n",
       "                   timestamp  \\\n",
       "0  2017-08-01 16:23:56 +0000   \n",
       "1  2017-08-01 00:17:27 +0000   \n",
       "2  2017-07-31 00:18:03 +0000   \n",
       "3  2017-07-30 15:58:51 +0000   \n",
       "4  2017-07-29 16:00:24 +0000   \n",
       "\n",
       "                                              source  \\\n",
       "0  <a href=\"http://twitter.com/download/iphone\" r...   \n",
       "1  <a href=\"http://twitter.com/download/iphone\" r...   \n",
       "2  <a href=\"http://twitter.com/download/iphone\" r...   \n",
       "3  <a href=\"http://twitter.com/download/iphone\" r...   \n",
       "4  <a href=\"http://twitter.com/download/iphone\" r...   \n",
       "\n",
       "                                                text  retweeted_status_id  \\\n",
       "0  This is Phineas. He's a mystical boy. Only eve...                  NaN   \n",
       "1  This is Tilly. She's just checking pup on you....                  NaN   \n",
       "2  This is Archie. He is a rare Norwegian Pouncin...                  NaN   \n",
       "3  This is Darla. She commenced a snooze mid meal...                  NaN   \n",
       "4  This is Franklin. He would like you to stop ca...                  NaN   \n",
       "\n",
       "   retweeted_status_user_id retweeted_status_timestamp  \\\n",
       "0                       NaN                        NaN   \n",
       "1                       NaN                        NaN   \n",
       "2                       NaN                        NaN   \n",
       "3                       NaN                        NaN   \n",
       "4                       NaN                        NaN   \n",
       "\n",
       "                                       expanded_urls  rating_numerator  \\\n",
       "0  https://twitter.com/dog_rates/status/892420643...                13   \n",
       "1  https://twitter.com/dog_rates/status/892177421...                13   \n",
       "2  https://twitter.com/dog_rates/status/891815181...                12   \n",
       "3  https://twitter.com/dog_rates/status/891689557...                13   \n",
       "4  https://twitter.com/dog_rates/status/891327558...                12   \n",
       "\n",
       "   rating_denominator      name doggo floofer pupper puppo  \n",
       "0                  10   Phineas  None    None   None  None  \n",
       "1                  10     Tilly  None    None   None  None  \n",
       "2                  10    Archie  None    None   None  None  \n",
       "3                  10     Darla  None    None   None  None  \n",
       "4                  10  Franklin  None    None   None  None  "
      ]
     },
     "execution_count": 2,
     "metadata": {},
     "output_type": "execute_result"
    }
   ],
   "source": [
    "# Stage 1a - Gathering Data I - Loading and Reconnaisance of Twitter Data\n",
    "path = os.getcwd()\n",
    "print(path) # Get the working directory - Fingerprint\n",
    "df_archive = pd.read_csv(path + '/twitter-archive-enhanced.csv') # Gathering Data - Loading in Jupyter Notebook\n",
    "df_archive.head() # Reconnaisance of Data - Preview of dataframe"
   ]
  },
  {
   "cell_type": "code",
   "execution_count": 3,
   "metadata": {},
   "outputs": [
    {
     "data": {
      "text/html": [
       "<div>\n",
       "<style scoped>\n",
       "    .dataframe tbody tr th:only-of-type {\n",
       "        vertical-align: middle;\n",
       "    }\n",
       "\n",
       "    .dataframe tbody tr th {\n",
       "        vertical-align: top;\n",
       "    }\n",
       "\n",
       "    .dataframe thead th {\n",
       "        text-align: right;\n",
       "    }\n",
       "</style>\n",
       "<table border=\"1\" class=\"dataframe\">\n",
       "  <thead>\n",
       "    <tr style=\"text-align: right;\">\n",
       "      <th></th>\n",
       "      <th>tweet_id</th>\n",
       "      <th>jpg_url</th>\n",
       "      <th>img_num</th>\n",
       "      <th>p1</th>\n",
       "      <th>p1_conf</th>\n",
       "      <th>p1_dog</th>\n",
       "      <th>p2</th>\n",
       "      <th>p2_conf</th>\n",
       "      <th>p2_dog</th>\n",
       "      <th>p3</th>\n",
       "      <th>p3_conf</th>\n",
       "      <th>p3_dog</th>\n",
       "    </tr>\n",
       "  </thead>\n",
       "  <tbody>\n",
       "    <tr>\n",
       "      <th>0</th>\n",
       "      <td>666020888022790149</td>\n",
       "      <td>https://pbs.twimg.com/media/CT4udn0WwAA0aMy.jpg</td>\n",
       "      <td>1</td>\n",
       "      <td>Welsh_springer_spaniel</td>\n",
       "      <td>0.465074</td>\n",
       "      <td>True</td>\n",
       "      <td>collie</td>\n",
       "      <td>0.156665</td>\n",
       "      <td>True</td>\n",
       "      <td>Shetland_sheepdog</td>\n",
       "      <td>0.061428</td>\n",
       "      <td>True</td>\n",
       "    </tr>\n",
       "    <tr>\n",
       "      <th>1</th>\n",
       "      <td>666029285002620928</td>\n",
       "      <td>https://pbs.twimg.com/media/CT42GRgUYAA5iDo.jpg</td>\n",
       "      <td>1</td>\n",
       "      <td>redbone</td>\n",
       "      <td>0.506826</td>\n",
       "      <td>True</td>\n",
       "      <td>miniature_pinscher</td>\n",
       "      <td>0.074192</td>\n",
       "      <td>True</td>\n",
       "      <td>Rhodesian_ridgeback</td>\n",
       "      <td>0.072010</td>\n",
       "      <td>True</td>\n",
       "    </tr>\n",
       "    <tr>\n",
       "      <th>2</th>\n",
       "      <td>666033412701032449</td>\n",
       "      <td>https://pbs.twimg.com/media/CT4521TWwAEvMyu.jpg</td>\n",
       "      <td>1</td>\n",
       "      <td>German_shepherd</td>\n",
       "      <td>0.596461</td>\n",
       "      <td>True</td>\n",
       "      <td>malinois</td>\n",
       "      <td>0.138584</td>\n",
       "      <td>True</td>\n",
       "      <td>bloodhound</td>\n",
       "      <td>0.116197</td>\n",
       "      <td>True</td>\n",
       "    </tr>\n",
       "    <tr>\n",
       "      <th>3</th>\n",
       "      <td>666044226329800704</td>\n",
       "      <td>https://pbs.twimg.com/media/CT5Dr8HUEAA-lEu.jpg</td>\n",
       "      <td>1</td>\n",
       "      <td>Rhodesian_ridgeback</td>\n",
       "      <td>0.408143</td>\n",
       "      <td>True</td>\n",
       "      <td>redbone</td>\n",
       "      <td>0.360687</td>\n",
       "      <td>True</td>\n",
       "      <td>miniature_pinscher</td>\n",
       "      <td>0.222752</td>\n",
       "      <td>True</td>\n",
       "    </tr>\n",
       "    <tr>\n",
       "      <th>4</th>\n",
       "      <td>666049248165822465</td>\n",
       "      <td>https://pbs.twimg.com/media/CT5IQmsXIAAKY4A.jpg</td>\n",
       "      <td>1</td>\n",
       "      <td>miniature_pinscher</td>\n",
       "      <td>0.560311</td>\n",
       "      <td>True</td>\n",
       "      <td>Rottweiler</td>\n",
       "      <td>0.243682</td>\n",
       "      <td>True</td>\n",
       "      <td>Doberman</td>\n",
       "      <td>0.154629</td>\n",
       "      <td>True</td>\n",
       "    </tr>\n",
       "  </tbody>\n",
       "</table>\n",
       "</div>"
      ],
      "text/plain": [
       "             tweet_id                                          jpg_url  \\\n",
       "0  666020888022790149  https://pbs.twimg.com/media/CT4udn0WwAA0aMy.jpg   \n",
       "1  666029285002620928  https://pbs.twimg.com/media/CT42GRgUYAA5iDo.jpg   \n",
       "2  666033412701032449  https://pbs.twimg.com/media/CT4521TWwAEvMyu.jpg   \n",
       "3  666044226329800704  https://pbs.twimg.com/media/CT5Dr8HUEAA-lEu.jpg   \n",
       "4  666049248165822465  https://pbs.twimg.com/media/CT5IQmsXIAAKY4A.jpg   \n",
       "\n",
       "   img_num                      p1   p1_conf  p1_dog                  p2  \\\n",
       "0        1  Welsh_springer_spaniel  0.465074    True              collie   \n",
       "1        1                 redbone  0.506826    True  miniature_pinscher   \n",
       "2        1         German_shepherd  0.596461    True            malinois   \n",
       "3        1     Rhodesian_ridgeback  0.408143    True             redbone   \n",
       "4        1      miniature_pinscher  0.560311    True          Rottweiler   \n",
       "\n",
       "    p2_conf  p2_dog                   p3   p3_conf  p3_dog  \n",
       "0  0.156665    True    Shetland_sheepdog  0.061428    True  \n",
       "1  0.074192    True  Rhodesian_ridgeback  0.072010    True  \n",
       "2  0.138584    True           bloodhound  0.116197    True  \n",
       "3  0.360687    True   miniature_pinscher  0.222752    True  \n",
       "4  0.243682    True             Doberman  0.154629    True  "
      ]
     },
     "execution_count": 3,
     "metadata": {},
     "output_type": "execute_result"
    }
   ],
   "source": [
    "# Stage 1b - Gathering Data II - Downloading Data (Dog Image Prediction) from Udacity Server\n",
    "folder_name = 'image_predictions' # Save to a file\n",
    "if not os.path.exists(folder_name):\n",
    "    os.makedirs(folder_name)\n",
    "\n",
    "url = 'https://d17h27t6h515a5.cloudfront.net/topher/2017/August/599fd2ad_image-predictions/image-predictions.tsv'\n",
    "response = requests.get(url)\n",
    "response # Gathering Data - Making Request\n",
    "\n",
    "with open(os.path.join(folder_name, url.split('/')[-1]), mode='wb') as file:\n",
    "    file.write(response.content)\n",
    "    \n",
    "df_images = pd.read_table('image_predictions/image-predictions.tsv', sep='\\t') # Gathering Data - Loading in Jupyter Notebook\n",
    "df_images.head() # Reconnaisance of Data - Preview of dataframe"
   ]
  },
  {
   "cell_type": "code",
   "execution_count": 4,
   "metadata": {},
   "outputs": [],
   "source": [
    "# Stage 1c - Probing Defence - Authentication of Twitter Request \n",
    "# Setting up Authentication for Probes\n",
    "consumer_key = X\n",
    "consumer_secret = X\n",
    "access_token = X\n",
    "access_secret = X\n",
    "\n",
    "auth = tweepy.OAuthHandler(consumer_key, consumer_secret)\n",
    "auth.set_access_token(access_token, access_secret)\n",
    "\n",
    "api = tweepy.API(auth, parser = tweepy.parsers.JSONParser(), # Parse the result to Json Object\n",
    "                 wait_on_rate_limit = True, # Automatically wait for rate limits to replenish\n",
    "                 wait_on_rate_limit_notify = True) # Print a notification when Tweepy is waiting for rate limits to replenis"
   ]
  },
  {
   "cell_type": "code",
   "execution_count": 5,
   "metadata": {
    "scrolled": true
   },
   "outputs": [
    {
     "name": "stdout",
     "output_type": "stream",
     "text": [
      "888202515573088257 _ [{'code': 144, 'message': 'No status found with that ID.'}]\n",
      "873697596434513921 _ [{'code': 144, 'message': 'No status found with that ID.'}]\n",
      "869988702071779329 _ [{'code': 144, 'message': 'No status found with that ID.'}]\n",
      "866816280283807744 _ [{'code': 144, 'message': 'No status found with that ID.'}]\n",
      "861769973181624320 _ [{'code': 144, 'message': 'No status found with that ID.'}]\n",
      "842892208864923648 _ [{'code': 144, 'message': 'No status found with that ID.'}]\n",
      "827228250799742977 _ [{'code': 144, 'message': 'No status found with that ID.'}]\n",
      "802247111496568832 _ [{'code': 144, 'message': 'No status found with that ID.'}]\n",
      "775096608509886464 _ [{'code': 144, 'message': 'No status found with that ID.'}]\n"
     ]
    }
   ],
   "source": [
    "# Stage 1d - Gathering Data III - Tweet Query\n",
    "tweet_ids = list(df_archive.tweet_id) # Creating list of tweet_ids for queries to be extracted. \n",
    "tweet_data = []\n",
    "failed_probe = [] # For failed queries - 1st attempt\n",
    "\n",
    "for tweet_id in tweet_ids:\n",
    "    try:\n",
    "        page = api.get_status(tweet_id, tweet_mode = 'extended')\n",
    "        favorites = page['favorite_count'] # Extract favorites\n",
    "        retweets = page['retweet_count'] # Extract retweets\n",
    "        user_followers = page['user']['followers_count'] # Extract follower counts\n",
    "        user_favourites = page['user']['favourites_count'] # Extract favorites counts\n",
    "        date_time = page['created_at'] # Date and Time of tweets\n",
    "        tweet_data.append({'tweet_id': int(tweet_id),\n",
    "                        'favorites': int(favorites),\n",
    "                        'retweets': int(retweets),\n",
    "                        'user_followers': int(user_followers),\n",
    "                        'user_favourites': int(user_favourites),\n",
    "                        'date_time': pd.to_datetime(date_time)})\n",
    "    except Exception as e:\n",
    "        print(str(tweet_id)+ \" _ \" + str(e))\n",
    "        failed_probe.append(tweet_id)"
   ]
  },
  {
   "cell_type": "code",
   "execution_count": 6,
   "metadata": {},
   "outputs": [
    {
     "name": "stdout",
     "output_type": "stream",
     "text": [
      "Strength of the tweet_data:  2347\n",
      "Strength of the failed probe:  9\n"
     ]
    }
   ],
   "source": [
    "# Stage 1e - Report on Tweet Query\n",
    "print(\"Strength of the tweet_data: \", len(tweet_data)) # Strength of successful query\n",
    "print(\"Strength of the failed probe: \", len(failed_probe)) # Strength of failed queries"
   ]
  },
  {
   "cell_type": "code",
   "execution_count": 7,
   "metadata": {},
   "outputs": [
    {
     "name": "stdout",
     "output_type": "stream",
     "text": [
      "Strength of the tweet_data after querying the errors ( 9 ) separately:  2356\n",
      "Strength of the failed probe - 2nd attempt:  0\n"
     ]
    }
   ],
   "source": [
    "# Stage 1f - Gathering Data IV - Reattempt on failed Tweet Query (and append the results to tweet_data)\n",
    "failed_probe_2nd = [] # For failed queries - 2nd attempt\n",
    "\n",
    "for fail in failed_probe:\n",
    "    try:\n",
    "        favorites = page['favorite_count']\n",
    "        retweets = page['retweet_count']\n",
    "        user_followers = page['user']['followers_count']\n",
    "        user_favourites = page['user']['favourites_count']\n",
    "        date_time = page['created_at']\n",
    "        \n",
    "        tweet_data.append({'tweet_id': int(tweet_id),\n",
    "                        'favorites': int(favorites),\n",
    "                        'retweets': int(retweets),\n",
    "                        'user_followers': int(user_followers),\n",
    "                        'user_favourites': int(user_favourites),\n",
    "                        'date_time': pd.to_datetime(date_time)})       \n",
    "    except Exception:\n",
    "        print(str(tweet_id)+ \" _ \" + str(e))\n",
    "        failed_probe_2nd.append(e)\n",
    "        \n",
    "# Updated Strength of tweet_data\n",
    "print(\"Strength of the tweet_data after querying the errors (\", len(failed_probe), \") separately: \", len(tweet_data))\n",
    "print(\"Strength of the failed probe - 2nd attempt: \", len(failed_probe_2nd)) # Strength of failed queries"
   ]
  },
  {
   "cell_type": "code",
   "execution_count": 8,
   "metadata": {},
   "outputs": [],
   "source": [
    "# Stage 1g - Creation of Dataframe for tweets_data\n",
    "# Creating Columns for Dataframe\n",
    "df_tweets = pd.DataFrame(tweet_data, columns = ['tweet_id', 'favorites', 'retweets',\n",
    "                                               'user_followers', 'user_favourites', 'date_time'])\n",
    "\n",
    "df_tweets.to_csv('tweet_json.txt', encoding = 'utf-8', index=False) \n",
    "# Backup - Save the dataframe to .csv. + Also allows for running below cells at later time"
   ]
  },
  {
   "cell_type": "code",
   "execution_count": 9,
   "metadata": {},
   "outputs": [
    {
     "name": "stdout",
     "output_type": "stream",
     "text": [
      "             tweet_id  favorites  retweets  user_followers  user_favourites  \\\n",
      "0  892420643555336193      39140      8704         5634311           130684   \n",
      "1  892177421306343426      33521      6387         5634311           130684   \n",
      "2  891815181378084864      25264      4245         5634311           130684   \n",
      "3  891689557279858688      42482      8801         5634471           130683   \n",
      "4  891327558926688256      40664      9580         5634311           130684   \n",
      "\n",
      "             date_time  \n",
      "0  2017-08-01 16:23:56  \n",
      "1  2017-08-01 00:17:27  \n",
      "2  2017-07-31 00:18:03  \n",
      "3  2017-07-30 15:58:51  \n",
      "4  2017-07-29 16:00:24  \n",
      "<class 'pandas.core.frame.DataFrame'>\n",
      "RangeIndex: 2356 entries, 0 to 2355\n",
      "Data columns (total 6 columns):\n",
      "tweet_id           2356 non-null int64\n",
      "favorites          2356 non-null int64\n",
      "retweets           2356 non-null int64\n",
      "user_followers     2356 non-null int64\n",
      "user_favourites    2356 non-null int64\n",
      "date_time          2356 non-null object\n",
      "dtypes: int64(5), object(1)\n",
      "memory usage: 110.5+ KB\n"
     ]
    }
   ],
   "source": [
    "# Stage 1h - Load the saved tweet_json.txt file into a dataframe\n",
    "df_tweets = pd.read_csv('tweet_json.txt', encoding = 'utf-8') # Gathering Data - Loading in Jupyter Notebook\n",
    "print(df_tweets.head())\n",
    "df_tweets.info()"
   ]
  },
  {
   "cell_type": "markdown",
   "metadata": {},
   "source": [
    "## Stage 1 - Gather: Summary\n",
    "\n",
    "Data was obtained from three sources.\n",
    "\n",
    "1)  Given (Existing file): - A csv file that was given directly. This csv file titled (twitter-archive-enhanced.csv) is the main @dog _rates twitter archive. The data it contained are (for, e.g.) tweet id and the tweet texts. \n",
    "\n",
    "    a.\tThis file is loaded as df_archive.\n",
    "    \n",
    "2)\tRequest from an external source: - a tsv file titled (image_predictions.tsv) that contained the dog breed predictions from a neural network. This data was available from an external source (hosted on Udacity servers - here). To gather this data, request methods had to be used to gather this data.\n",
    "\n",
    "    a.\tThis file is loaded as df_image\n",
    "    \n",
    "3)\tRequest (Query) from an external source + written to json format: - tweets were extracted through the utilisation of twitter’s API and then written to a text file (tweet_json.txt) in JavaScript Object Notation (json) format. \n",
    "\n",
    "    a.\tThis data is loaded as df_tweets. \n",
    "    b.\tA second attempt was made for failed queries, by themselves, the successful ones were then added to the dataframe. \n",
    "    \n",
    "Both df_archive and df_tweets has 2356 counts for tweet_id. This is good and an indicator of tallying data and possible merger. \n",
    "\n",
    "With these data, we can now proceed to Stage 2. "
   ]
  },
  {
   "cell_type": "markdown",
   "metadata": {},
   "source": [
    "## Stage 2 - Assessing Data\n",
    "\n",
    "Assessing Data, in this context refer to the assessment of the quality and tidiness of the data as oppoed to EDA or ETL. This will be executed in this stage. "
   ]
  },
  {
   "cell_type": "code",
   "execution_count": 10,
   "metadata": {},
   "outputs": [
    {
     "name": "stdout",
     "output_type": "stream",
     "text": [
      "<class 'pandas.core.frame.DataFrame'>\n",
      "RangeIndex: 2356 entries, 0 to 2355\n",
      "Data columns (total 17 columns):\n",
      "tweet_id                      2356 non-null int64\n",
      "in_reply_to_status_id         78 non-null float64\n",
      "in_reply_to_user_id           78 non-null float64\n",
      "timestamp                     2356 non-null object\n",
      "source                        2356 non-null object\n",
      "text                          2356 non-null object\n",
      "retweeted_status_id           181 non-null float64\n",
      "retweeted_status_user_id      181 non-null float64\n",
      "retweeted_status_timestamp    181 non-null object\n",
      "expanded_urls                 2297 non-null object\n",
      "rating_numerator              2356 non-null int64\n",
      "rating_denominator            2356 non-null int64\n",
      "name                          2356 non-null object\n",
      "doggo                         2356 non-null object\n",
      "floofer                       2356 non-null object\n",
      "pupper                        2356 non-null object\n",
      "puppo                         2356 non-null object\n",
      "dtypes: float64(4), int64(3), object(10)\n",
      "memory usage: 313.0+ KB\n"
     ]
    },
    {
     "data": {
      "text/html": [
       "<div>\n",
       "<style scoped>\n",
       "    .dataframe tbody tr th:only-of-type {\n",
       "        vertical-align: middle;\n",
       "    }\n",
       "\n",
       "    .dataframe tbody tr th {\n",
       "        vertical-align: top;\n",
       "    }\n",
       "\n",
       "    .dataframe thead th {\n",
       "        text-align: right;\n",
       "    }\n",
       "</style>\n",
       "<table border=\"1\" class=\"dataframe\">\n",
       "  <thead>\n",
       "    <tr style=\"text-align: right;\">\n",
       "      <th></th>\n",
       "      <th>tweet_id</th>\n",
       "      <th>in_reply_to_status_id</th>\n",
       "      <th>in_reply_to_user_id</th>\n",
       "      <th>retweeted_status_id</th>\n",
       "      <th>retweeted_status_user_id</th>\n",
       "      <th>rating_numerator</th>\n",
       "      <th>rating_denominator</th>\n",
       "    </tr>\n",
       "  </thead>\n",
       "  <tbody>\n",
       "    <tr>\n",
       "      <th>count</th>\n",
       "      <td>2.356000e+03</td>\n",
       "      <td>7.800000e+01</td>\n",
       "      <td>7.800000e+01</td>\n",
       "      <td>1.810000e+02</td>\n",
       "      <td>1.810000e+02</td>\n",
       "      <td>2356.000000</td>\n",
       "      <td>2356.000000</td>\n",
       "    </tr>\n",
       "    <tr>\n",
       "      <th>mean</th>\n",
       "      <td>7.427716e+17</td>\n",
       "      <td>7.455079e+17</td>\n",
       "      <td>2.014171e+16</td>\n",
       "      <td>7.720400e+17</td>\n",
       "      <td>1.241698e+16</td>\n",
       "      <td>13.126486</td>\n",
       "      <td>10.455433</td>\n",
       "    </tr>\n",
       "    <tr>\n",
       "      <th>std</th>\n",
       "      <td>6.856705e+16</td>\n",
       "      <td>7.582492e+16</td>\n",
       "      <td>1.252797e+17</td>\n",
       "      <td>6.236928e+16</td>\n",
       "      <td>9.599254e+16</td>\n",
       "      <td>45.876648</td>\n",
       "      <td>6.745237</td>\n",
       "    </tr>\n",
       "    <tr>\n",
       "      <th>min</th>\n",
       "      <td>6.660209e+17</td>\n",
       "      <td>6.658147e+17</td>\n",
       "      <td>1.185634e+07</td>\n",
       "      <td>6.661041e+17</td>\n",
       "      <td>7.832140e+05</td>\n",
       "      <td>0.000000</td>\n",
       "      <td>0.000000</td>\n",
       "    </tr>\n",
       "    <tr>\n",
       "      <th>25%</th>\n",
       "      <td>6.783989e+17</td>\n",
       "      <td>6.757419e+17</td>\n",
       "      <td>3.086374e+08</td>\n",
       "      <td>7.186315e+17</td>\n",
       "      <td>4.196984e+09</td>\n",
       "      <td>10.000000</td>\n",
       "      <td>10.000000</td>\n",
       "    </tr>\n",
       "    <tr>\n",
       "      <th>50%</th>\n",
       "      <td>7.196279e+17</td>\n",
       "      <td>7.038708e+17</td>\n",
       "      <td>4.196984e+09</td>\n",
       "      <td>7.804657e+17</td>\n",
       "      <td>4.196984e+09</td>\n",
       "      <td>11.000000</td>\n",
       "      <td>10.000000</td>\n",
       "    </tr>\n",
       "    <tr>\n",
       "      <th>75%</th>\n",
       "      <td>7.993373e+17</td>\n",
       "      <td>8.257804e+17</td>\n",
       "      <td>4.196984e+09</td>\n",
       "      <td>8.203146e+17</td>\n",
       "      <td>4.196984e+09</td>\n",
       "      <td>12.000000</td>\n",
       "      <td>10.000000</td>\n",
       "    </tr>\n",
       "    <tr>\n",
       "      <th>max</th>\n",
       "      <td>8.924206e+17</td>\n",
       "      <td>8.862664e+17</td>\n",
       "      <td>8.405479e+17</td>\n",
       "      <td>8.874740e+17</td>\n",
       "      <td>7.874618e+17</td>\n",
       "      <td>1776.000000</td>\n",
       "      <td>170.000000</td>\n",
       "    </tr>\n",
       "  </tbody>\n",
       "</table>\n",
       "</div>"
      ],
      "text/plain": [
       "           tweet_id  in_reply_to_status_id  in_reply_to_user_id  \\\n",
       "count  2.356000e+03           7.800000e+01         7.800000e+01   \n",
       "mean   7.427716e+17           7.455079e+17         2.014171e+16   \n",
       "std    6.856705e+16           7.582492e+16         1.252797e+17   \n",
       "min    6.660209e+17           6.658147e+17         1.185634e+07   \n",
       "25%    6.783989e+17           6.757419e+17         3.086374e+08   \n",
       "50%    7.196279e+17           7.038708e+17         4.196984e+09   \n",
       "75%    7.993373e+17           8.257804e+17         4.196984e+09   \n",
       "max    8.924206e+17           8.862664e+17         8.405479e+17   \n",
       "\n",
       "       retweeted_status_id  retweeted_status_user_id  rating_numerator  \\\n",
       "count         1.810000e+02              1.810000e+02       2356.000000   \n",
       "mean          7.720400e+17              1.241698e+16         13.126486   \n",
       "std           6.236928e+16              9.599254e+16         45.876648   \n",
       "min           6.661041e+17              7.832140e+05          0.000000   \n",
       "25%           7.186315e+17              4.196984e+09         10.000000   \n",
       "50%           7.804657e+17              4.196984e+09         11.000000   \n",
       "75%           8.203146e+17              4.196984e+09         12.000000   \n",
       "max           8.874740e+17              7.874618e+17       1776.000000   \n",
       "\n",
       "       rating_denominator  \n",
       "count         2356.000000  \n",
       "mean            10.455433  \n",
       "std              6.745237  \n",
       "min              0.000000  \n",
       "25%             10.000000  \n",
       "50%             10.000000  \n",
       "75%             10.000000  \n",
       "max            170.000000  "
      ]
     },
     "execution_count": 10,
     "metadata": {},
     "output_type": "execute_result"
    }
   ],
   "source": [
    "# Stage 2a - Surveying the Battlefield I - Twitter Data\n",
    "df_archive.info()\n",
    "df_archive.describe()"
   ]
  },
  {
   "cell_type": "code",
   "execution_count": 11,
   "metadata": {
    "scrolled": true
   },
   "outputs": [
    {
     "name": "stdout",
     "output_type": "stream",
     "text": [
      "<class 'pandas.core.frame.DataFrame'>\n",
      "RangeIndex: 2075 entries, 0 to 2074\n",
      "Data columns (total 12 columns):\n",
      "tweet_id    2075 non-null int64\n",
      "jpg_url     2075 non-null object\n",
      "img_num     2075 non-null int64\n",
      "p1          2075 non-null object\n",
      "p1_conf     2075 non-null float64\n",
      "p1_dog      2075 non-null bool\n",
      "p2          2075 non-null object\n",
      "p2_conf     2075 non-null float64\n",
      "p2_dog      2075 non-null bool\n",
      "p3          2075 non-null object\n",
      "p3_conf     2075 non-null float64\n",
      "p3_dog      2075 non-null bool\n",
      "dtypes: bool(3), float64(3), int64(2), object(4)\n",
      "memory usage: 152.1+ KB\n"
     ]
    },
    {
     "data": {
      "text/html": [
       "<div>\n",
       "<style scoped>\n",
       "    .dataframe tbody tr th:only-of-type {\n",
       "        vertical-align: middle;\n",
       "    }\n",
       "\n",
       "    .dataframe tbody tr th {\n",
       "        vertical-align: top;\n",
       "    }\n",
       "\n",
       "    .dataframe thead th {\n",
       "        text-align: right;\n",
       "    }\n",
       "</style>\n",
       "<table border=\"1\" class=\"dataframe\">\n",
       "  <thead>\n",
       "    <tr style=\"text-align: right;\">\n",
       "      <th></th>\n",
       "      <th>tweet_id</th>\n",
       "      <th>img_num</th>\n",
       "      <th>p1_conf</th>\n",
       "      <th>p2_conf</th>\n",
       "      <th>p3_conf</th>\n",
       "    </tr>\n",
       "  </thead>\n",
       "  <tbody>\n",
       "    <tr>\n",
       "      <th>count</th>\n",
       "      <td>2.075000e+03</td>\n",
       "      <td>2075.000000</td>\n",
       "      <td>2075.000000</td>\n",
       "      <td>2.075000e+03</td>\n",
       "      <td>2.075000e+03</td>\n",
       "    </tr>\n",
       "    <tr>\n",
       "      <th>mean</th>\n",
       "      <td>7.384514e+17</td>\n",
       "      <td>1.203855</td>\n",
       "      <td>0.594548</td>\n",
       "      <td>1.345886e-01</td>\n",
       "      <td>6.032417e-02</td>\n",
       "    </tr>\n",
       "    <tr>\n",
       "      <th>std</th>\n",
       "      <td>6.785203e+16</td>\n",
       "      <td>0.561875</td>\n",
       "      <td>0.271174</td>\n",
       "      <td>1.006657e-01</td>\n",
       "      <td>5.090593e-02</td>\n",
       "    </tr>\n",
       "    <tr>\n",
       "      <th>min</th>\n",
       "      <td>6.660209e+17</td>\n",
       "      <td>1.000000</td>\n",
       "      <td>0.044333</td>\n",
       "      <td>1.011300e-08</td>\n",
       "      <td>1.740170e-10</td>\n",
       "    </tr>\n",
       "    <tr>\n",
       "      <th>25%</th>\n",
       "      <td>6.764835e+17</td>\n",
       "      <td>1.000000</td>\n",
       "      <td>0.364412</td>\n",
       "      <td>5.388625e-02</td>\n",
       "      <td>1.622240e-02</td>\n",
       "    </tr>\n",
       "    <tr>\n",
       "      <th>50%</th>\n",
       "      <td>7.119988e+17</td>\n",
       "      <td>1.000000</td>\n",
       "      <td>0.588230</td>\n",
       "      <td>1.181810e-01</td>\n",
       "      <td>4.944380e-02</td>\n",
       "    </tr>\n",
       "    <tr>\n",
       "      <th>75%</th>\n",
       "      <td>7.932034e+17</td>\n",
       "      <td>1.000000</td>\n",
       "      <td>0.843855</td>\n",
       "      <td>1.955655e-01</td>\n",
       "      <td>9.180755e-02</td>\n",
       "    </tr>\n",
       "    <tr>\n",
       "      <th>max</th>\n",
       "      <td>8.924206e+17</td>\n",
       "      <td>4.000000</td>\n",
       "      <td>1.000000</td>\n",
       "      <td>4.880140e-01</td>\n",
       "      <td>2.734190e-01</td>\n",
       "    </tr>\n",
       "  </tbody>\n",
       "</table>\n",
       "</div>"
      ],
      "text/plain": [
       "           tweet_id      img_num      p1_conf       p2_conf       p3_conf\n",
       "count  2.075000e+03  2075.000000  2075.000000  2.075000e+03  2.075000e+03\n",
       "mean   7.384514e+17     1.203855     0.594548  1.345886e-01  6.032417e-02\n",
       "std    6.785203e+16     0.561875     0.271174  1.006657e-01  5.090593e-02\n",
       "min    6.660209e+17     1.000000     0.044333  1.011300e-08  1.740170e-10\n",
       "25%    6.764835e+17     1.000000     0.364412  5.388625e-02  1.622240e-02\n",
       "50%    7.119988e+17     1.000000     0.588230  1.181810e-01  4.944380e-02\n",
       "75%    7.932034e+17     1.000000     0.843855  1.955655e-01  9.180755e-02\n",
       "max    8.924206e+17     4.000000     1.000000  4.880140e-01  2.734190e-01"
      ]
     },
     "execution_count": 11,
     "metadata": {},
     "output_type": "execute_result"
    }
   ],
   "source": [
    "# Stage 2b -Surveying the Battlefield I - Image Data\n",
    "df_images.info()\n",
    "df_images.describe()"
   ]
  },
  {
   "cell_type": "code",
   "execution_count": 12,
   "metadata": {},
   "outputs": [
    {
     "name": "stdout",
     "output_type": "stream",
     "text": [
      "<class 'pandas.core.frame.DataFrame'>\n",
      "RangeIndex: 2356 entries, 0 to 2355\n",
      "Data columns (total 6 columns):\n",
      "tweet_id           2356 non-null int64\n",
      "favorites          2356 non-null int64\n",
      "retweets           2356 non-null int64\n",
      "user_followers     2356 non-null int64\n",
      "user_favourites    2356 non-null int64\n",
      "date_time          2356 non-null object\n",
      "dtypes: int64(5), object(1)\n",
      "memory usage: 110.5+ KB\n"
     ]
    },
    {
     "data": {
      "text/html": [
       "<div>\n",
       "<style scoped>\n",
       "    .dataframe tbody tr th:only-of-type {\n",
       "        vertical-align: middle;\n",
       "    }\n",
       "\n",
       "    .dataframe tbody tr th {\n",
       "        vertical-align: top;\n",
       "    }\n",
       "\n",
       "    .dataframe thead th {\n",
       "        text-align: right;\n",
       "    }\n",
       "</style>\n",
       "<table border=\"1\" class=\"dataframe\">\n",
       "  <thead>\n",
       "    <tr style=\"text-align: right;\">\n",
       "      <th></th>\n",
       "      <th>tweet_id</th>\n",
       "      <th>favorites</th>\n",
       "      <th>retweets</th>\n",
       "      <th>user_followers</th>\n",
       "      <th>user_favourites</th>\n",
       "    </tr>\n",
       "  </thead>\n",
       "  <tbody>\n",
       "    <tr>\n",
       "      <th>count</th>\n",
       "      <td>2.356000e+03</td>\n",
       "      <td>2356.000000</td>\n",
       "      <td>2356.000000</td>\n",
       "      <td>2.356000e+03</td>\n",
       "      <td>2356.000000</td>\n",
       "    </tr>\n",
       "    <tr>\n",
       "      <th>mean</th>\n",
       "      <td>7.420866e+17</td>\n",
       "      <td>8096.663837</td>\n",
       "      <td>3055.331494</td>\n",
       "      <td>5.634463e+06</td>\n",
       "      <td>130683.988540</td>\n",
       "    </tr>\n",
       "    <tr>\n",
       "      <th>std</th>\n",
       "      <td>6.840009e+16</td>\n",
       "      <td>12185.627375</td>\n",
       "      <td>5082.795502</td>\n",
       "      <td>1.419260e+02</td>\n",
       "      <td>0.106459</td>\n",
       "    </tr>\n",
       "    <tr>\n",
       "      <th>min</th>\n",
       "      <td>6.660209e+17</td>\n",
       "      <td>0.000000</td>\n",
       "      <td>0.000000</td>\n",
       "      <td>5.634032e+06</td>\n",
       "      <td>130683.000000</td>\n",
       "    </tr>\n",
       "    <tr>\n",
       "      <th>25%</th>\n",
       "      <td>6.780063e+17</td>\n",
       "      <td>1412.000000</td>\n",
       "      <td>607.250000</td>\n",
       "      <td>5.634347e+06</td>\n",
       "      <td>130684.000000</td>\n",
       "    </tr>\n",
       "    <tr>\n",
       "      <th>50%</th>\n",
       "      <td>7.185003e+17</td>\n",
       "      <td>3555.000000</td>\n",
       "      <td>1424.500000</td>\n",
       "      <td>5.634440e+06</td>\n",
       "      <td>130684.000000</td>\n",
       "    </tr>\n",
       "    <tr>\n",
       "      <th>75%</th>\n",
       "      <td>7.986954e+17</td>\n",
       "      <td>10005.000000</td>\n",
       "      <td>3561.500000</td>\n",
       "      <td>5.634594e+06</td>\n",
       "      <td>130684.000000</td>\n",
       "    </tr>\n",
       "    <tr>\n",
       "      <th>max</th>\n",
       "      <td>8.924206e+17</td>\n",
       "      <td>144116.000000</td>\n",
       "      <td>78216.000000</td>\n",
       "      <td>5.634820e+06</td>\n",
       "      <td>130684.000000</td>\n",
       "    </tr>\n",
       "  </tbody>\n",
       "</table>\n",
       "</div>"
      ],
      "text/plain": [
       "           tweet_id      favorites      retweets  user_followers  \\\n",
       "count  2.356000e+03    2356.000000   2356.000000    2.356000e+03   \n",
       "mean   7.420866e+17    8096.663837   3055.331494    5.634463e+06   \n",
       "std    6.840009e+16   12185.627375   5082.795502    1.419260e+02   \n",
       "min    6.660209e+17       0.000000      0.000000    5.634032e+06   \n",
       "25%    6.780063e+17    1412.000000    607.250000    5.634347e+06   \n",
       "50%    7.185003e+17    3555.000000   1424.500000    5.634440e+06   \n",
       "75%    7.986954e+17   10005.000000   3561.500000    5.634594e+06   \n",
       "max    8.924206e+17  144116.000000  78216.000000    5.634820e+06   \n",
       "\n",
       "       user_favourites  \n",
       "count      2356.000000  \n",
       "mean     130683.988540  \n",
       "std           0.106459  \n",
       "min      130683.000000  \n",
       "25%      130684.000000  \n",
       "50%      130684.000000  \n",
       "75%      130684.000000  \n",
       "max      130684.000000  "
      ]
     },
     "execution_count": 12,
     "metadata": {},
     "output_type": "execute_result"
    }
   ],
   "source": [
    "# Stage 2c - Surveying the Battlefield I - Tweet Query\n",
    "df_tweets.info()\n",
    "df_tweets.describe()"
   ]
  },
  {
   "cell_type": "code",
   "execution_count": 13,
   "metadata": {},
   "outputs": [
    {
     "name": "stdout",
     "output_type": "stream",
     "text": [
      "             tweet_id  in_reply_to_status_id  in_reply_to_user_id  \\\n",
      "0  892420643555336193                    NaN                  NaN   \n",
      "1  892177421306343426                    NaN                  NaN   \n",
      "2  891815181378084864                    NaN                  NaN   \n",
      "3  891689557279858688                    NaN                  NaN   \n",
      "4  891327558926688256                    NaN                  NaN   \n",
      "\n",
      "                   timestamp  \\\n",
      "0  2017-08-01 16:23:56 +0000   \n",
      "1  2017-08-01 00:17:27 +0000   \n",
      "2  2017-07-31 00:18:03 +0000   \n",
      "3  2017-07-30 15:58:51 +0000   \n",
      "4  2017-07-29 16:00:24 +0000   \n",
      "\n",
      "                                              source  \\\n",
      "0  <a href=\"http://twitter.com/download/iphone\" r...   \n",
      "1  <a href=\"http://twitter.com/download/iphone\" r...   \n",
      "2  <a href=\"http://twitter.com/download/iphone\" r...   \n",
      "3  <a href=\"http://twitter.com/download/iphone\" r...   \n",
      "4  <a href=\"http://twitter.com/download/iphone\" r...   \n",
      "\n",
      "                                                text  retweeted_status_id  \\\n",
      "0  This is Phineas. He's a mystical boy. Only eve...                  NaN   \n",
      "1  This is Tilly. She's just checking pup on you....                  NaN   \n",
      "2  This is Archie. He is a rare Norwegian Pouncin...                  NaN   \n",
      "3  This is Darla. She commenced a snooze mid meal...                  NaN   \n",
      "4  This is Franklin. He would like you to stop ca...                  NaN   \n",
      "\n",
      "   retweeted_status_user_id retweeted_status_timestamp  \\\n",
      "0                       NaN                        NaN   \n",
      "1                       NaN                        NaN   \n",
      "2                       NaN                        NaN   \n",
      "3                       NaN                        NaN   \n",
      "4                       NaN                        NaN   \n",
      "\n",
      "                                       expanded_urls  rating_numerator  \\\n",
      "0  https://twitter.com/dog_rates/status/892420643...                13   \n",
      "1  https://twitter.com/dog_rates/status/892177421...                13   \n",
      "2  https://twitter.com/dog_rates/status/891815181...                12   \n",
      "3  https://twitter.com/dog_rates/status/891689557...                13   \n",
      "4  https://twitter.com/dog_rates/status/891327558...                12   \n",
      "\n",
      "   rating_denominator      name doggo floofer pupper puppo  \n",
      "0                  10   Phineas  None    None   None  None  \n",
      "1                  10     Tilly  None    None   None  None  \n",
      "2                  10    Archie  None    None   None  None  \n",
      "3                  10     Darla  None    None   None  None  \n",
      "4                  10  Franklin  None    None   None  None  \n",
      "             tweet_id                                          jpg_url  \\\n",
      "0  666020888022790149  https://pbs.twimg.com/media/CT4udn0WwAA0aMy.jpg   \n",
      "1  666029285002620928  https://pbs.twimg.com/media/CT42GRgUYAA5iDo.jpg   \n",
      "2  666033412701032449  https://pbs.twimg.com/media/CT4521TWwAEvMyu.jpg   \n",
      "3  666044226329800704  https://pbs.twimg.com/media/CT5Dr8HUEAA-lEu.jpg   \n",
      "4  666049248165822465  https://pbs.twimg.com/media/CT5IQmsXIAAKY4A.jpg   \n",
      "\n",
      "   img_num                      p1   p1_conf  p1_dog                  p2  \\\n",
      "0        1  Welsh_springer_spaniel  0.465074    True              collie   \n",
      "1        1                 redbone  0.506826    True  miniature_pinscher   \n",
      "2        1         German_shepherd  0.596461    True            malinois   \n",
      "3        1     Rhodesian_ridgeback  0.408143    True             redbone   \n",
      "4        1      miniature_pinscher  0.560311    True          Rottweiler   \n",
      "\n",
      "    p2_conf  p2_dog                   p3   p3_conf  p3_dog  \n",
      "0  0.156665    True    Shetland_sheepdog  0.061428    True  \n",
      "1  0.074192    True  Rhodesian_ridgeback  0.072010    True  \n",
      "2  0.138584    True           bloodhound  0.116197    True  \n",
      "3  0.360687    True   miniature_pinscher  0.222752    True  \n",
      "4  0.243682    True             Doberman  0.154629    True  \n",
      "             tweet_id  favorites  retweets  user_followers  user_favourites  \\\n",
      "0  892420643555336193      39140      8704         5634311           130684   \n",
      "1  892177421306343426      33521      6387         5634311           130684   \n",
      "2  891815181378084864      25264      4245         5634311           130684   \n",
      "3  891689557279858688      42482      8801         5634471           130683   \n",
      "4  891327558926688256      40664      9580         5634311           130684   \n",
      "\n",
      "             date_time  \n",
      "0  2017-08-01 16:23:56  \n",
      "1  2017-08-01 00:17:27  \n",
      "2  2017-07-31 00:18:03  \n",
      "3  2017-07-30 15:58:51  \n",
      "4  2017-07-29 16:00:24  \n"
     ]
    }
   ],
   "source": [
    "# Stage 2d - Making a copy\n",
    "df_archive.to_csv('df_archive.csv', index=False, encoding = 'utf-8') # As backup\n",
    "df_archive_copy = df_archive.copy() # Copy required\n",
    "df_images.to_csv('df_images.csv', index=False, encoding = 'utf-8') # As backup\n",
    "df_images_copy = df_images.copy() # Copy required\n",
    "df_tweets.to_csv('df_tweets.csv', index=False, encoding = 'utf-8') # As required by review\n",
    "df_tweets_copy = df_tweets.copy() # Copy required\n",
    "print(df_archive_copy.head()) # Confirmation of Copy\n",
    "print(df_images_copy.head()) # Confirmation of Copy\n",
    "print(df_tweets_copy.head()) # Confirmation of Copy"
   ]
  },
  {
   "cell_type": "markdown",
   "metadata": {},
   "source": [
    "## Stage 2 - Assessing Data: Summary \n",
    "\n",
    "As mentioned we are looking at Quality issues (C) and Tidiness issues (T). We identified a total of 8 possible issues with the addition of several data issues (D). Issues are given to tag (eg. C1, T2, D3), for two purpose. First is to help monitor the issues and second is to help organise the chronological order to the C&C (Cleaning and Correction). \n",
    "\n",
    "__Quality - Content Issues__\n",
    "\n",
    "C1) 8x values for (666020888022790149). \n",
    "    - Considering the context, this means that it has been duplicated 8 times\n",
    "        - Duplicates will be deleted\n",
    "    \n",
    "C2) Missing values \n",
    "    - Image Dataset (2075 instead of 2356) - Missing Pictures = 281\n",
    "        - Pictures are needed to allow others to rate the dog (objectivity and reproducibility). Therefore rows without pictures         will be removed. While objectivity is difficult for an account of this nature, at the very least the existence of a             picture will allow others to also \"rate\" and agree or disagree. \n",
    "    - Name? Is this Dog Names? - C6\n",
    "        - See C6 for the rectification for this. \n",
    "    \n",
    "C3) Confounding Information - Not sure data useful, especially since they are very few (low in counts). \n",
    "    - 'in_reply_to_status_id', 'in_reply_to_user_id'\n",
    "        - These columns will be deleted.\n",
    "\n",
    "C4) Null objects are non-null \n",
    "    - Null objects are non-null\n",
    "        - These values will be change to NaN. \n",
    "\n",
    "C5) 4 categories should be integers instead of float\n",
    "    - in_reply_to_status_id, in_reply_to_user_id, retweeted_status_id, retweeted_status_user_id\n",
    "        - The data type will be changed using .astype() \n",
    "    - Possibility of using strings instead of integer (especially for user_id) - Since there are ids. Might be better to prevent       possible operations \n",
    "        - The data type will be changed using .astype() \n",
    "\n",
    "C6) Column (Name) have invalid entries.\n",
    "    - Name has low counts and missing\n",
    "        - A new column 'dog_name' will be created that extracts the name from the text. Old column will be deleted. \n",
    "\n",
    "C7) Datetime vs Timestamp: \n",
    "    - retweeted_status_timestamp, timestamp should be datetime instead of object (string)\n",
    "        - The data type will be changed using .astype(). This is done in Stage 3u below\n",
    "\n",
    "C8) Ratings - Derived from rating_numerator and rating_denominator\n",
    "    - Nonsensical values exist (eg. 17775 out of 10).\n",
    "        - A new column 'rating_clean' will be created that will remove outliers and adjusted to make more sense. Since there are         less than a handful of rating more than 15, these data will be changed to 15 to reflect that they have the \"highest\"             score (above the norm) but a more acceptable value. \n",
    "\n",
    "__Tidiness - Strutural issues__\n",
    "\n",
    "T1) 3 tables instead of 1. \n",
    "    - 3 tables instead of 1\n",
    "        - The 3 tables will be merged into 1 table called df_master. to rule them all. This is done in Stage 3a below\n",
    "\n",
    "T2) Information overload (extra columns providing unecessary information). \n",
    "    - Image Dataset (2075 instead of 2356)\n",
    "        - See C2 above. \n",
    "    - 'in_reply_to_status_id', 'in_reply_to_user_id', 'user_favourites'\n",
    "        - See C3 above. \n",
    "    - retweet columns are not necessary\n",
    "        - This will be eradicated to prevent an uprising. \n",
    "    \n",
    "T3) Maturation?  \n",
    "    - This exist as several columns\n",
    "        - The several columns will be merged into 1 column called 'dog_stage' to rule them all. \n",
    "\n",
    "Some of these issues will be fixed first, for example, T1). By merging all 3 tables into one, it will make further cleaning easier. This is possible, as tweet_id is common among all three tables and will be used as the key. Next will be C1) and C2) as this deals with clones (duplicates), which can be programatically removed. And so on. \n",
    "\n",
    "__Data Issues - Data Issues__\n",
    "\n",
    "From a data analysis perspective, several basic anthropometric values are missing, such as name, gender, breeed, size/height, weight and age etc. Some of these are provided (name) but might require further investigation and extraction. Others might have to be derived from existing columns. These issues will be highlighted below"
   ]
  },
  {
   "cell_type": "markdown",
   "metadata": {},
   "source": [
    "## Stage 3 - Cleaning Data"
   ]
  },
  {
   "cell_type": "markdown",
   "metadata": {},
   "source": [
    "__Define__ : Issue T1 (See Above)\n",
    "__Code__: pd.merge\n",
    "__Test__: See next cell that has the comments # Confirmation"
   ]
  },
  {
   "cell_type": "code",
   "execution_count": 14,
   "metadata": {},
   "outputs": [
    {
     "name": "stdout",
     "output_type": "stream",
     "text": [
      "<class 'pandas.core.frame.DataFrame'>\n",
      "Int64Index: 2365 entries, 0 to 2364\n",
      "Data columns (total 33 columns):\n",
      "tweet_id                      2365 non-null int64\n",
      "in_reply_to_status_id         78 non-null float64\n",
      "in_reply_to_user_id           78 non-null float64\n",
      "timestamp                     2365 non-null object\n",
      "source                        2365 non-null object\n",
      "text                          2365 non-null object\n",
      "retweeted_status_id           181 non-null float64\n",
      "retweeted_status_user_id      181 non-null float64\n",
      "retweeted_status_timestamp    181 non-null object\n",
      "expanded_urls                 2306 non-null object\n",
      "rating_numerator              2365 non-null int64\n",
      "rating_denominator            2365 non-null int64\n",
      "name                          2365 non-null object\n",
      "doggo                         2365 non-null object\n",
      "floofer                       2365 non-null object\n",
      "pupper                        2365 non-null object\n",
      "puppo                         2365 non-null object\n",
      "jpg_url                       2084 non-null object\n",
      "img_num                       2084 non-null float64\n",
      "p1                            2084 non-null object\n",
      "p1_conf                       2084 non-null float64\n",
      "p1_dog                        2084 non-null object\n",
      "p2                            2084 non-null object\n",
      "p2_conf                       2084 non-null float64\n",
      "p2_dog                        2084 non-null object\n",
      "p3                            2084 non-null object\n",
      "p3_conf                       2084 non-null float64\n",
      "p3_dog                        2084 non-null object\n",
      "favorites                     2356 non-null float64\n",
      "retweets                      2356 non-null float64\n",
      "user_followers                2356 non-null float64\n",
      "user_favourites               2356 non-null float64\n",
      "date_time                     2356 non-null object\n",
      "dtypes: float64(12), int64(3), object(18)\n",
      "memory usage: 628.2+ KB\n"
     ]
    }
   ],
   "source": [
    "# Stage 3a - Cleaning Data - T1 - Merging Data - One Ring (Table) to rule them All. \n",
    "# T1 will be solved first by merging all 3 tables into 1. \n",
    "# This will allow all futher cleaning to be done on one table instead of several. \n",
    "df_master = pd.merge(df_archive, df_images, how = 'left', on = ['tweet_id'])\n",
    "df_master = pd.merge(df_master, df_tweets, how = 'left', on = ['tweet_id'])\n",
    "df_master.to_csv('df_master.csv', encoding = 'utf-8') # Backup - Save the dataframe to .csv\n",
    "df_master.head() # Confirmation of Merge - Looking at Column Headers\n",
    "df_master.info() # Confirmation of Merge - Looking at Structure of Dataframe"
   ]
  },
  {
   "cell_type": "markdown",
   "metadata": {},
   "source": [
    "__Data Issues - Data Issues__\n",
    "\n",
    "As mentioned, basic anthropometric values are missing, however based on visual analysis of the df_master, it might be possible to extract 3 categories: \n",
    "\n",
    "D1) Name (from text e.g \"This is X\")\n",
    "    - Name? \n",
    "        - See C2 for the rectification for this\n",
    "\n",
    "D2) Gender (from text e.g him, his, etc)\n",
    "    - Not labelled\n",
    "        - Column 'dog_gender' will be created that will extract the gender from text.\n",
    "\n",
    "D3) Maturation? (from several column eg. 'doggo', 'floofer', 'pupper', 'puppo). \n",
    "    - Several columns\n",
    "        - See T3 for the rectification. \n"
   ]
  },
  {
   "cell_type": "markdown",
   "metadata": {},
   "source": [
    "__Define__ : Issue C1 (See Above)\n",
    "__Code__: pd.drop_duplicates\n",
    "__Test__: See next cell that has the comments # Confirmation"
   ]
  },
  {
   "cell_type": "code",
   "execution_count": 15,
   "metadata": {},
   "outputs": [
    {
     "data": {
      "text/plain": [
       "2356"
      ]
     },
     "execution_count": 15,
     "metadata": {},
     "output_type": "execute_result"
    }
   ],
   "source": [
    "# Stage 3b - Cleaning Data - C1 - Clone Wars: Eliminating Duplicates\n",
    "df_master = df_master.drop_duplicates() # Delete duplicated tweet_id\n",
    "len(df_master) # Confirmation - Dataframe should be reduced by no. of duplicates."
   ]
  },
  {
   "cell_type": "markdown",
   "metadata": {},
   "source": [
    "__Define__ : Issue C1, T1 and T2 (See Above)\n",
    "__Code__: pd.drop\n",
    "__Test__: See next cell that has the comments # Confirmation"
   ]
  },
  {
   "cell_type": "code",
   "execution_count": 16,
   "metadata": {},
   "outputs": [
    {
     "data": {
      "text/plain": [
       "2175"
      ]
     },
     "execution_count": 16,
     "metadata": {},
     "output_type": "execute_result"
    }
   ],
   "source": [
    "# Stage 3c - Cleaning Data - C1, T1 and T2 - Attack of the Clones: Eliminating Retweets and Establishing the Galatic Empire (Order)\n",
    "df_master = df_master[pd.isnull(df_master.retweeted_status_id)] # Delete the retweets\n",
    "len(df_master) # Confirmation - Dataframe should be reduced by no. of duplicates.\n",
    "df_master = df_master.drop('retweeted_status_id', 1)\n",
    "df_master = df_master.drop('retweeted_status_user_id', 1)\n",
    "df_master = df_master.drop('retweeted_status_timestamp', 1)\n",
    "len(df_master) # Confirmation - Dataframe should be reduced by no. of duplicates."
   ]
  },
  {
   "cell_type": "markdown",
   "metadata": {},
   "source": [
    "__Define__ : Issue C2 (See Above)\n",
    "__Code__: pd.drop\n",
    "__Test__: See next cell that has the comments # Confirmation"
   ]
  },
  {
   "cell_type": "code",
   "execution_count": 17,
   "metadata": {},
   "outputs": [
    {
     "name": "stdout",
     "output_type": "stream",
     "text": [
      "1994\n"
     ]
    },
    {
     "data": {
      "text/plain": [
       "['tweet_id',\n",
       " 'in_reply_to_status_id',\n",
       " 'in_reply_to_user_id',\n",
       " 'timestamp',\n",
       " 'source',\n",
       " 'text',\n",
       " 'expanded_urls',\n",
       " 'rating_numerator',\n",
       " 'rating_denominator',\n",
       " 'name',\n",
       " 'doggo',\n",
       " 'floofer',\n",
       " 'pupper',\n",
       " 'puppo',\n",
       " 'jpg_url',\n",
       " 'img_num',\n",
       " 'p1',\n",
       " 'p1_conf',\n",
       " 'p1_dog',\n",
       " 'p2',\n",
       " 'p2_conf',\n",
       " 'p2_dog',\n",
       " 'p3',\n",
       " 'p3_conf',\n",
       " 'p3_dog',\n",
       " 'favorites',\n",
       " 'retweets',\n",
       " 'user_followers',\n",
       " 'user_favourites']"
      ]
     },
     "execution_count": 17,
     "metadata": {},
     "output_type": "execute_result"
    }
   ],
   "source": [
    "# Stage 3c - Cleaning Data - C2 - The Wrath of Khan: Eliminating Tweets with no pictures\n",
    "df_master = df_master.dropna(subset = ['jpg_url'])\n",
    "df_master = df_master.drop('date_time', 1) # Delete column date_time we imported from the API - duplicated\n",
    "print(len(df_master)) # Confirmation I - Dataframe should be reduced by number of missing pictures\n",
    "list(df_master) # Confirmation II - Checking Columns"
   ]
  },
  {
   "cell_type": "code",
   "execution_count": 18,
   "metadata": {},
   "outputs": [
    {
     "name": "stdout",
     "output_type": "stream",
     "text": [
      "None     1920\n",
      "doggo      74\n",
      "Name: doggo, dtype: int64\n",
      "None       1986\n",
      "floofer       8\n",
      "Name: floofer, dtype: int64\n",
      "None      1782\n",
      "pupper     212\n",
      "Name: pupper, dtype: int64\n",
      "None     1971\n",
      "puppo      23\n",
      "Name: puppo, dtype: int64\n"
     ]
    }
   ],
   "source": [
    "# Stage 3d - Cleaning Data - T3 and D3 - The Phantom Menance (Part I) - Phantom categories of dogs\n",
    "# Check the values in columns related to dog maturation. \n",
    "print(df_master.doggo.value_counts())\n",
    "print(df_master.floofer.value_counts())\n",
    "print(df_master.pupper.value_counts())\n",
    "print(df_master.puppo.value_counts())"
   ]
  },
  {
   "cell_type": "markdown",
   "metadata": {},
   "source": [
    "__Define__ : Issue T3 and D3 (See Above)\n",
    "__Code__: pd.melt, pd.drop and pd.value_counts\n",
    "__Test__: See next cell that has the comments # Confirmation"
   ]
  },
  {
   "cell_type": "code",
   "execution_count": 19,
   "metadata": {},
   "outputs": [
    {
     "name": "stdout",
     "output_type": "stream",
     "text": [
      "None       7659\n",
      "pupper      212\n",
      "doggo        74\n",
      "puppo        23\n",
      "floofer       8\n",
      "Name: dog_stage, dtype: int64\n",
      "None       1688\n",
      "pupper      212\n",
      "doggo        63\n",
      "puppo        23\n",
      "floofer       8\n",
      "Name: dog_stage, dtype: int64\n",
      "1994\n"
     ]
    }
   ],
   "source": [
    "# Stage 3e - Cleaning Data - T3 and D3 - The Librarians and the Trial of One\n",
    "columns_to_melt = ['doggo', 'floofer', 'pupper', 'puppo'] # Selecting the columns to melt and to remain\n",
    "columns_to_stay = [x for x in df_master.columns.tolist() if x not in columns_to_melt]\n",
    "\n",
    "df_master = pd.melt(df_master, id_vars = columns_to_stay, value_vars = columns_to_melt, \n",
    "                         var_name = 'stages', value_name = 'dog_stage') # Melt the the columns into values\n",
    "df_master = df_master.drop('stages', 1) # Delete column 'stages'\n",
    "print(df_master.dog_stage.value_counts()) # Confirmation of successful trial I\n",
    "\n",
    "# 'dog_stage' - Filtering for unique values + removing duplicate values\n",
    "df_master = df_master.sort_values('dog_stage').drop_duplicates('tweet_id', keep = 'last')\n",
    "print(df_master.dog_stage.value_counts()) # Confirmation of successful trial \n",
    "print(len(df_master)) # Confirmation of successful trial "
   ]
  },
  {
   "cell_type": "markdown",
   "metadata": {},
   "source": [
    "The Image prediction colums is confusing and can be merged into 2. "
   ]
  },
  {
   "cell_type": "markdown",
   "metadata": {},
   "source": [
    "__Define__ : Issue T3 and D3 (See Above)\n",
    "__Code__: ,append(), pd.apply()\n",
    "__Test__: See next cell that has the comments # Confirmation"
   ]
  },
  {
   "cell_type": "code",
   "execution_count": 20,
   "metadata": {},
   "outputs": [
    {
     "data": {
      "text/plain": [
       "['tweet_id',\n",
       " 'in_reply_to_status_id',\n",
       " 'in_reply_to_user_id',\n",
       " 'timestamp',\n",
       " 'source',\n",
       " 'text',\n",
       " 'expanded_urls',\n",
       " 'rating_numerator',\n",
       " 'rating_denominator',\n",
       " 'name',\n",
       " 'jpg_url',\n",
       " 'img_num',\n",
       " 'p1',\n",
       " 'p1_conf',\n",
       " 'p1_dog',\n",
       " 'p2',\n",
       " 'p2_conf',\n",
       " 'p2_dog',\n",
       " 'p3',\n",
       " 'p3_conf',\n",
       " 'p3_dog',\n",
       " 'favorites',\n",
       " 'retweets',\n",
       " 'user_followers',\n",
       " 'user_favourites',\n",
       " 'dog_stage',\n",
       " 'prediction',\n",
       " 'confidence_level']"
      ]
     },
     "execution_count": 20,
     "metadata": {},
     "output_type": "execute_result"
    }
   ],
   "source": [
    "# Stage 3f - Cleaning Data - T3 and D3 - The Highlander - \"In the END, there can be only one\" - \n",
    "prediction = []\n",
    "confidence_level = []\n",
    "\n",
    "def highlander_quickening(dataframe): # Sort(Search algorithm and confidence level)\n",
    "    if dataframe['p1_dog'] == True:\n",
    "        prediction.append(dataframe['p1'])\n",
    "        confidence_level.append(dataframe['p1_conf'])\n",
    "    elif dataframe['p2_dog'] == True:\n",
    "        prediction.append(dataframe['p2'])\n",
    "        confidence_level.append(dataframe['p2_conf'])\n",
    "    elif dataframe['p3_dog'] == True:\n",
    "        prediction.append(dataframe['p3'])\n",
    "        confidence_level.append(dataframe['p3_conf'])\n",
    "    else:\n",
    "        prediction.append('NaN')\n",
    "        confidence_level.append(0)\n",
    "\n",
    "df_master.apply(highlander_quickening, axis=1)\n",
    "df_master['prediction'] = prediction # New Columns 1\n",
    "df_master['confidence_level'] = confidence_level # New Columns 2\n",
    "list(df_master) # Confirmation of successful quickening"
   ]
  },
  {
   "cell_type": "markdown",
   "metadata": {},
   "source": [
    "__Define__ : Issue T3 (See Above)\n",
    "__Code__: pd.drop\n",
    "__Test__: See next cell that has the comments # Confirmation"
   ]
  },
  {
   "cell_type": "code",
   "execution_count": 21,
   "metadata": {},
   "outputs": [
    {
     "data": {
      "text/plain": [
       "['tweet_id',\n",
       " 'in_reply_to_status_id',\n",
       " 'in_reply_to_user_id',\n",
       " 'timestamp',\n",
       " 'source',\n",
       " 'text',\n",
       " 'expanded_urls',\n",
       " 'rating_numerator',\n",
       " 'rating_denominator',\n",
       " 'name',\n",
       " 'jpg_url',\n",
       " 'favorites',\n",
       " 'retweets',\n",
       " 'user_followers',\n",
       " 'user_favourites',\n",
       " 'dog_stage',\n",
       " 'prediction',\n",
       " 'confidence_level']"
      ]
     },
     "execution_count": 21,
     "metadata": {},
     "output_type": "execute_result"
    }
   ],
   "source": [
    "# Stage 3g - Cleaning Data - T3 - The Highlander - \"\"The PRIZE\" - Removing old columns\n",
    "df_master = df_master.drop(['img_num', 'p1', 'p1_conf', 'p1_dog', 'p2', 'p2_conf', 'p2_dog', 'p3', 'p3_conf', 'p3_dog'], 1)\n",
    "list(df_master) # Confirmation of the prize"
   ]
  },
  {
   "cell_type": "markdown",
   "metadata": {},
   "source": [
    "__Define__ : Issue C1 (See Above)\n",
    "__Code__: pd.apply()\n",
    "__Test__: See next cell that has the comments # Confirmation"
   ]
  },
  {
   "cell_type": "code",
   "execution_count": 22,
   "metadata": {},
   "outputs": [
    {
     "name": "stdout",
     "output_type": "stream",
     "text": [
      "                tweet_id  in_reply_to_status_id  in_reply_to_user_id  \\\n",
      "1918  667405339315146752                    NaN                  NaN   \n",
      "1917  667435689202614272                    NaN                  NaN   \n",
      "1916  667437278097252352                    NaN                  NaN   \n",
      "1915  667443425659232256                    NaN                  NaN   \n",
      "1914  667453023279554560                    NaN                  NaN   \n",
      "\n",
      "                      timestamp  \\\n",
      "1918  2015-11-19 18:13:27 +0000   \n",
      "1917  2015-11-19 20:14:03 +0000   \n",
      "1916  2015-11-19 20:20:22 +0000   \n",
      "1915  2015-11-19 20:44:47 +0000   \n",
      "1914  2015-11-19 21:22:56 +0000   \n",
      "\n",
      "                                                 source  \\\n",
      "1918  <a href=\"http://twitter.com/download/iphone\" r...   \n",
      "1917  <a href=\"http://twitter.com/download/iphone\" r...   \n",
      "1916  <a href=\"http://twitter.com/download/iphone\" r...   \n",
      "1915  <a href=\"http://twitter.com/download/iphone\" r...   \n",
      "1914  <a href=\"http://twitter.com\" rel=\"nofollow\">Tw...   \n",
      "\n",
      "                                                   text  \\\n",
      "1918  This is Biden. Biden just tripped... 7/10 http...   \n",
      "1917            Ermergerd 12/10 https://t.co/PQni2sjPsm   \n",
      "1916  Never seen this breed before. Very pointy pup....   \n",
      "1915  Exotic dog here. Long neck. Weird paws. Obsess...   \n",
      "1914  Meet Cupcake. I would do unspeakable things fo...   \n",
      "\n",
      "                                          expanded_urls  rating_numerator  \\\n",
      "1918  https://twitter.com/dog_rates/status/667405339...                 7   \n",
      "1917  https://twitter.com/dog_rates/status/667435689...                12   \n",
      "1916  https://twitter.com/dog_rates/status/667437278...                10   \n",
      "1915  https://twitter.com/dog_rates/status/667443425...                 6   \n",
      "1914  https://twitter.com/dog_rates/status/667453023...                11   \n",
      "\n",
      "      rating_denominator     name  \\\n",
      "1918                  10    Biden   \n",
      "1917                  10     None   \n",
      "1916                  10     None   \n",
      "1915                  10     None   \n",
      "1914                  10  Cupcake   \n",
      "\n",
      "                                              jpg_url  favorites  retweets  \\\n",
      "1918  https://pbs.twimg.com/media/CUMZnmhUEAEbtis.jpg      483.0     230.0   \n",
      "1917  https://pbs.twimg.com/media/CUM1OHCW4AEgGSi.jpg      319.0      87.0   \n",
      "1916  https://pbs.twimg.com/media/CUM2qWaWoAUZ06L.jpg      471.0     255.0   \n",
      "1915  https://pbs.twimg.com/media/CUM8QZwW4AAVsBl.jpg      816.0     614.0   \n",
      "1914  https://pbs.twimg.com/media/CUNE_OSUwAAdHhX.jpg      323.0      95.0   \n",
      "\n",
      "      user_followers  user_favourites dog_stage          prediction  \\\n",
      "1918       5634635.0         130684.0      None       Saint_Bernard   \n",
      "1917       5634635.0         130684.0      None          Rottweiler   \n",
      "1916       5634635.0         130684.0      None                 NaN   \n",
      "1915       5634635.0         130684.0      None                 NaN   \n",
      "1914       5634635.0         130684.0      None  Labrador_retriever   \n",
      "\n",
      "      confidence_level  \n",
      "1918          0.381377  \n",
      "1917          0.999091  \n",
      "1916          0.000000  \n",
      "1915          0.000000  \n",
      "1914          0.825670  \n",
      "<class 'pandas.core.frame.DataFrame'>\n",
      "Int64Index: 1994 entries, 1918 to 6764\n",
      "Data columns (total 18 columns):\n",
      "tweet_id                 1994 non-null int64\n",
      "in_reply_to_status_id    23 non-null float64\n",
      "in_reply_to_user_id      23 non-null float64\n",
      "timestamp                1994 non-null object\n",
      "source                   1994 non-null object\n",
      "text                     1994 non-null object\n",
      "expanded_urls            1994 non-null object\n",
      "rating_numerator         1994 non-null int64\n",
      "rating_denominator       1994 non-null int64\n",
      "name                     1994 non-null object\n",
      "jpg_url                  1994 non-null object\n",
      "favorites                1994 non-null float64\n",
      "retweets                 1994 non-null float64\n",
      "user_followers           1994 non-null float64\n",
      "user_favourites          1994 non-null float64\n",
      "dog_stage                1994 non-null object\n",
      "prediction               1994 non-null object\n",
      "confidence_level         1994 non-null float64\n",
      "dtypes: float64(7), int64(3), object(8)\n",
      "memory usage: 296.0+ KB\n"
     ]
    }
   ],
   "source": [
    "# Stage 3h - Cleaning Data - C1 - Clone Wars (Part II): Eliminating Duplicates\n",
    "df_master.apply(lambda x: len(x.unique()))\n",
    "print(df_master.head()) # Confirmation of the elimination\n",
    "df_master.info()"
   ]
  },
  {
   "cell_type": "markdown",
   "metadata": {},
   "source": [
    "in_reply_to_status_id and in_reply_to_user_id has only 23 entries. Will need to investigate. "
   ]
  },
  {
   "cell_type": "code",
   "execution_count": 23,
   "metadata": {},
   "outputs": [
    {
     "data": {
      "text/plain": [
       "<a href=\"http://twitter.com/download/iphone\" rel=\"nofollow\">Twitter for iPhone</a>     1955\n",
       "<a href=\"http://twitter.com\" rel=\"nofollow\">Twitter Web Client</a>                       28\n",
       "<a href=\"https://about.twitter.com/products/tweetdeck\" rel=\"nofollow\">TweetDeck</a>      11\n",
       "Name: source, dtype: int64"
      ]
     },
     "execution_count": 23,
     "metadata": {},
     "output_type": "execute_result"
    }
   ],
   "source": [
    "# Stage 3i - Cleaning Data - T2 - Investigating Low Counts (Part I) - Observered from df_master.info()\n",
    "df_master['in_reply_to_user_id'].value_counts() # Only 78 non-null float64?\n",
    "df_master['in_reply_to_status_id'].value_counts() # Only 78 non-null float64?\n",
    "df_master['user_favourites'].value_counts()\n",
    "df_master['source'].value_counts()"
   ]
  },
  {
   "cell_type": "markdown",
   "metadata": {},
   "source": [
    "__Define__ : Issue T2 and C3 (See Above)\n",
    "__Code__: .apply and pd.drop \n",
    "__Test__: See next cell that has the comments # Confirmation"
   ]
  },
  {
   "cell_type": "code",
   "execution_count": 24,
   "metadata": {},
   "outputs": [
    {
     "data": {
      "text/html": [
       "<div>\n",
       "<style scoped>\n",
       "    .dataframe tbody tr th:only-of-type {\n",
       "        vertical-align: middle;\n",
       "    }\n",
       "\n",
       "    .dataframe tbody tr th {\n",
       "        vertical-align: top;\n",
       "    }\n",
       "\n",
       "    .dataframe thead th {\n",
       "        text-align: right;\n",
       "    }\n",
       "</style>\n",
       "<table border=\"1\" class=\"dataframe\">\n",
       "  <thead>\n",
       "    <tr style=\"text-align: right;\">\n",
       "      <th></th>\n",
       "      <th>tweet_id</th>\n",
       "      <th>timestamp</th>\n",
       "      <th>source</th>\n",
       "      <th>text</th>\n",
       "      <th>expanded_urls</th>\n",
       "      <th>rating_numerator</th>\n",
       "      <th>rating_denominator</th>\n",
       "      <th>name</th>\n",
       "      <th>jpg_url</th>\n",
       "      <th>favorites</th>\n",
       "      <th>retweets</th>\n",
       "      <th>user_followers</th>\n",
       "      <th>dog_stage</th>\n",
       "      <th>prediction</th>\n",
       "      <th>confidence_level</th>\n",
       "    </tr>\n",
       "  </thead>\n",
       "  <tbody>\n",
       "    <tr>\n",
       "      <th>1918</th>\n",
       "      <td>667405339315146752</td>\n",
       "      <td>2015-11-19 18:13:27 +0000</td>\n",
       "      <td>Twitter for iPhone</td>\n",
       "      <td>This is Biden. Biden just tripped... 7/10 http...</td>\n",
       "      <td>https://twitter.com/dog_rates/status/667405339...</td>\n",
       "      <td>7</td>\n",
       "      <td>10</td>\n",
       "      <td>Biden</td>\n",
       "      <td>https://pbs.twimg.com/media/CUMZnmhUEAEbtis.jpg</td>\n",
       "      <td>483.0</td>\n",
       "      <td>230.0</td>\n",
       "      <td>5634635.0</td>\n",
       "      <td>None</td>\n",
       "      <td>Saint_Bernard</td>\n",
       "      <td>0.381377</td>\n",
       "    </tr>\n",
       "    <tr>\n",
       "      <th>1917</th>\n",
       "      <td>667435689202614272</td>\n",
       "      <td>2015-11-19 20:14:03 +0000</td>\n",
       "      <td>Twitter for iPhone</td>\n",
       "      <td>Ermergerd 12/10 https://t.co/PQni2sjPsm</td>\n",
       "      <td>https://twitter.com/dog_rates/status/667435689...</td>\n",
       "      <td>12</td>\n",
       "      <td>10</td>\n",
       "      <td>None</td>\n",
       "      <td>https://pbs.twimg.com/media/CUM1OHCW4AEgGSi.jpg</td>\n",
       "      <td>319.0</td>\n",
       "      <td>87.0</td>\n",
       "      <td>5634635.0</td>\n",
       "      <td>None</td>\n",
       "      <td>Rottweiler</td>\n",
       "      <td>0.999091</td>\n",
       "    </tr>\n",
       "    <tr>\n",
       "      <th>1916</th>\n",
       "      <td>667437278097252352</td>\n",
       "      <td>2015-11-19 20:20:22 +0000</td>\n",
       "      <td>Twitter for iPhone</td>\n",
       "      <td>Never seen this breed before. Very pointy pup....</td>\n",
       "      <td>https://twitter.com/dog_rates/status/667437278...</td>\n",
       "      <td>10</td>\n",
       "      <td>10</td>\n",
       "      <td>None</td>\n",
       "      <td>https://pbs.twimg.com/media/CUM2qWaWoAUZ06L.jpg</td>\n",
       "      <td>471.0</td>\n",
       "      <td>255.0</td>\n",
       "      <td>5634635.0</td>\n",
       "      <td>None</td>\n",
       "      <td>NaN</td>\n",
       "      <td>0.000000</td>\n",
       "    </tr>\n",
       "    <tr>\n",
       "      <th>1915</th>\n",
       "      <td>667443425659232256</td>\n",
       "      <td>2015-11-19 20:44:47 +0000</td>\n",
       "      <td>Twitter for iPhone</td>\n",
       "      <td>Exotic dog here. Long neck. Weird paws. Obsess...</td>\n",
       "      <td>https://twitter.com/dog_rates/status/667443425...</td>\n",
       "      <td>6</td>\n",
       "      <td>10</td>\n",
       "      <td>None</td>\n",
       "      <td>https://pbs.twimg.com/media/CUM8QZwW4AAVsBl.jpg</td>\n",
       "      <td>816.0</td>\n",
       "      <td>614.0</td>\n",
       "      <td>5634635.0</td>\n",
       "      <td>None</td>\n",
       "      <td>NaN</td>\n",
       "      <td>0.000000</td>\n",
       "    </tr>\n",
       "    <tr>\n",
       "      <th>1914</th>\n",
       "      <td>667453023279554560</td>\n",
       "      <td>2015-11-19 21:22:56 +0000</td>\n",
       "      <td>Twitter Web Client</td>\n",
       "      <td>Meet Cupcake. I would do unspeakable things fo...</td>\n",
       "      <td>https://twitter.com/dog_rates/status/667453023...</td>\n",
       "      <td>11</td>\n",
       "      <td>10</td>\n",
       "      <td>Cupcake</td>\n",
       "      <td>https://pbs.twimg.com/media/CUNE_OSUwAAdHhX.jpg</td>\n",
       "      <td>323.0</td>\n",
       "      <td>95.0</td>\n",
       "      <td>5634635.0</td>\n",
       "      <td>None</td>\n",
       "      <td>Labrador_retriever</td>\n",
       "      <td>0.825670</td>\n",
       "    </tr>\n",
       "  </tbody>\n",
       "</table>\n",
       "</div>"
      ],
      "text/plain": [
       "                tweet_id                  timestamp              source  \\\n",
       "1918  667405339315146752  2015-11-19 18:13:27 +0000  Twitter for iPhone   \n",
       "1917  667435689202614272  2015-11-19 20:14:03 +0000  Twitter for iPhone   \n",
       "1916  667437278097252352  2015-11-19 20:20:22 +0000  Twitter for iPhone   \n",
       "1915  667443425659232256  2015-11-19 20:44:47 +0000  Twitter for iPhone   \n",
       "1914  667453023279554560  2015-11-19 21:22:56 +0000  Twitter Web Client   \n",
       "\n",
       "                                                   text  \\\n",
       "1918  This is Biden. Biden just tripped... 7/10 http...   \n",
       "1917            Ermergerd 12/10 https://t.co/PQni2sjPsm   \n",
       "1916  Never seen this breed before. Very pointy pup....   \n",
       "1915  Exotic dog here. Long neck. Weird paws. Obsess...   \n",
       "1914  Meet Cupcake. I would do unspeakable things fo...   \n",
       "\n",
       "                                          expanded_urls  rating_numerator  \\\n",
       "1918  https://twitter.com/dog_rates/status/667405339...                 7   \n",
       "1917  https://twitter.com/dog_rates/status/667435689...                12   \n",
       "1916  https://twitter.com/dog_rates/status/667437278...                10   \n",
       "1915  https://twitter.com/dog_rates/status/667443425...                 6   \n",
       "1914  https://twitter.com/dog_rates/status/667453023...                11   \n",
       "\n",
       "      rating_denominator     name  \\\n",
       "1918                  10    Biden   \n",
       "1917                  10     None   \n",
       "1916                  10     None   \n",
       "1915                  10     None   \n",
       "1914                  10  Cupcake   \n",
       "\n",
       "                                              jpg_url  favorites  retweets  \\\n",
       "1918  https://pbs.twimg.com/media/CUMZnmhUEAEbtis.jpg      483.0     230.0   \n",
       "1917  https://pbs.twimg.com/media/CUM1OHCW4AEgGSi.jpg      319.0      87.0   \n",
       "1916  https://pbs.twimg.com/media/CUM2qWaWoAUZ06L.jpg      471.0     255.0   \n",
       "1915  https://pbs.twimg.com/media/CUM8QZwW4AAVsBl.jpg      816.0     614.0   \n",
       "1914  https://pbs.twimg.com/media/CUNE_OSUwAAdHhX.jpg      323.0      95.0   \n",
       "\n",
       "      user_followers dog_stage          prediction  confidence_level  \n",
       "1918       5634635.0      None       Saint_Bernard          0.381377  \n",
       "1917       5634635.0      None          Rottweiler          0.999091  \n",
       "1916       5634635.0      None                 NaN          0.000000  \n",
       "1915       5634635.0      None                 NaN          0.000000  \n",
       "1914       5634635.0      None  Labrador_retriever          0.825670  "
      ]
     },
     "execution_count": 24,
     "metadata": {},
     "output_type": "execute_result"
    }
   ],
   "source": [
    "# Stage 3j - Cleaning Data - T2 and C3 - Investigating Low Counts (Part II) - Remove columns (low counts)\n",
    "df_master = df_master.drop(['in_reply_to_status_id', 'in_reply_to_user_id', 'user_favourites'], 1)\n",
    "df_master['source'] = df_master['source'].apply(lambda x: re.findall(r'>(.*)<', x)[0]) # Clean the content of source column\n",
    "df_master.head() # Confirmation of the removal"
   ]
  },
  {
   "cell_type": "code",
   "execution_count": 25,
   "metadata": {},
   "outputs": [
    {
     "data": {
      "text/plain": [
       "1918    This is Biden. Biden just tripped... 7/10 http...\n",
       "1917              Ermergerd 12/10 https://t.co/PQni2sjPsm\n",
       "1916    Never seen this breed before. Very pointy pup....\n",
       "1915    Exotic dog here. Long neck. Weird paws. Obsess...\n",
       "1914    Meet Cupcake. I would do unspeakable things fo...\n",
       "1913    This is Reese and Twips. Reese protects Twips....\n",
       "1912    This is a northern Wahoo named Kohl. He runs t...\n",
       "1911    Two dogs in this one. Both are rare Jujitsu Py...\n",
       "1910    This is Philippe from Soviet Russia. Commandin...\n",
       "1909    Say hello to Hall and Oates. Oates is winking ...\n",
       "1908    This a Norwegian Pewterschmidt named Tickles. ...\n",
       "1907    This is Dook &amp; Milo. Dook is struggling to...\n",
       "1906    Another topnotch dog. His name is Big Jumpy Ra...\n",
       "1905    Meet Naphaniel. He doesn't necessarily enjoy h...\n",
       "1904    This is Frank (pronounced \"Fronq\"). Too many b...\n",
       "1903    This is a southwest Coriander named Klint. Hat...\n",
       "1902    This is Kial. Kial is either wearing a cape, w...\n",
       "1901    Here is George. George took a selfie of his ne...\n",
       "1900    Never seen dog like this. Breathes heavy. Tilt...\n",
       "1899    What a dog to start the day with. Very calm. L...\n",
       "1898    Meet Olive. He comes to spot by tree to remini...\n",
       "1897    This is Calvin. He is a Luxembourgian Mayo. Ha...\n",
       "1896    This is a rare Hungarian Pinot named Jessiga. ...\n",
       "1895    Super rare dog. Endangered (?). Thinks it's fu...\n",
       "1894    Dogs only please. Small cows and other non can...\n",
       "1893                 OMIGOD 12/10 https://t.co/SVMF4Frf1w\n",
       "1892    This is Filup. He is overcome with joy after f...\n",
       "1919    This is Fwed. He is a Canadian Asian Taylormad...\n",
       "1891    THE EYES 12/10\\n\\nI'm sorry. These are suppose...\n",
       "1920    Here we have a neat pup. Very white. Cool shad...\n",
       "                              ...                        \n",
       "5200    This pupper can only sleep on shoes. It's a cr...\n",
       "5513    Meet Zuzu. He just graduated college. Astute p...\n",
       "5204    Say hello to Gizmo. He's quite the pupper. Con...\n",
       "4064    This is Jed. He may be the fanciest pupper in ...\n",
       "5543    This pupper just wants a belly rub. This puppe...\n",
       "5057    This is Sansa. She's gotten too big for her ch...\n",
       "5209    This is Lucy. She's terrified of the stuffed b...\n",
       "6281    Say hello to Pablo. He's one gorgeous puppo. A...\n",
       "5996    This is Stuart. He's sporting his favorite fan...\n",
       "6680    Hopefully this puppo on a swing will help get ...\n",
       "6130    Here's a puppo participating in the #ScienceMa...\n",
       "6291    Here's a super supportive puppo participating ...\n",
       "6691    This is Cooper. He's just so damn happy. 10/10...\n",
       "6448    Say hello to Lily. She's pupset that her costu...\n",
       "6060    This is Sebastian. He can't see all the colors...\n",
       "5994    Here's a puppo that seems to be on the fence a...\n",
       "6116    Sorry for the lack of posts today. I came home...\n",
       "6481    This is Tonks. She is a service puppo. Can hea...\n",
       "6308    This is Oliver. He has dreams of being a servi...\n",
       "6795    This is Bayley. She fell asleep trying to esca...\n",
       "6753    This is Abby. She got her face stuck in a glas...\n",
       "6661    When ur older siblings get to play in the deep...\n",
       "6516    I want to finally rate this iconic puppo who t...\n",
       "6402    This is Loki. He'll do your taxes for you. Can...\n",
       "6394    This is Diogi. He fell in the pool as soon as ...\n",
       "6463    This is Betty. She's assisting with the dishes...\n",
       "6087    This is Shikha. She just watched you drop a sk...\n",
       "6044    This is Snoopy. He's a proud #PrideMonthPuppo....\n",
       "6279    Here's a very loving and accepting puppo. Appe...\n",
       "6764    This is Kilo. He cannot reach the snackum. Nif...\n",
       "Name: text, Length: 1994, dtype: object"
      ]
     },
     "execution_count": 25,
     "metadata": {},
     "output_type": "execute_result"
    }
   ],
   "source": [
    "# Stage 3n - Cleaning Data - C2 - Missing Data (Part IV) - Visual Inspection\n",
    "df_master['text'] # For Visual Inspection to check for Dog Names"
   ]
  },
  {
   "cell_type": "markdown",
   "metadata": {},
   "source": [
    "Stage 3o & 3p - Cleaning Data - C2, D1 and D2 - Missing Data (Part VI and VII) - Fill in Missing data - Dog Names and Gender\n",
    "Dog Names are in the text. Search (loop) through dog_names in the text and extract (append) to a list. From the inspection above. Dog Names are found in 5 situations. These are:\n",
    "1) 'This is X'\n",
    "2) 'Say hello to X'\n",
    "3) 'Meet X'\n",
    "4) 'Here we have X'\n",
    "5) 'Named X'"
   ]
  },
  {
   "cell_type": "markdown",
   "metadata": {},
   "source": [
    "__Define__ : Issue C6 (See Above)\n",
    "__Code__: .startwith() and .append()\n",
    "__Test__: See next cell that has the comments # Confirmation"
   ]
  },
  {
   "cell_type": "code",
   "execution_count": 26,
   "metadata": {},
   "outputs": [
    {
     "name": "stdout",
     "output_type": "stream",
     "text": [
      "1994 have been extracted and placed in a new column \"dog_name\"\n"
     ]
    }
   ],
   "source": [
    "# Stage 3o - Cleaning Data - C6 - Missing Data (Part VI) - Fill in Missing data - Dog Names\n",
    "# Dog Names are in the text. Search (loop) through dog_names in the text and extract (append) to a list\n",
    "dog_names = [] # List to contain Dog Names\n",
    "\n",
    "for text in df_master['text']:\n",
    "    # Start_with 'This is ' and the first letter of the name is uppercase\n",
    "    if text.startswith('This is ') and re.match(r'[A-Z].*', text.split()[2]):\n",
    "        dog_names.append(text.split()[2].strip(',').strip('.'))\n",
    "    # Start_with 'Say ello to ' and the first letter of the name is uppercase\n",
    "    elif text.startswith('Say hello to ') and re.match(r'[A-Z].*', text.split()[3]):\n",
    "        dog_names.append(text.split()[3].strip(',').strip('.'))\n",
    "    # Start_with 'Meet ' and the first letter of the name is uppercase\n",
    "    elif text.startswith('Meet ') and re.match(r'[A-Z].*', text.split()[1]):\n",
    "        dog_names.append(text.split()[1].strip(',').strip('.'))\n",
    "    # Start with 'Here we have ' and the first letter of the name is uppercase\n",
    "    elif text.startswith('Here we have ') and re.match(r'[A-Z].*', text.split()[3]):\n",
    "        dog_names.append(text.split()[3].strip(',').strip('.'))\n",
    "    # 'Named' but first letter of the name is uppercase\n",
    "    elif 'named' in text and re.match(r'[A-Z].*', text.split()[text.split().index('named') + 1]):\n",
    "        dog_names.append(text.split()[text.split().index('named') + 1].strip(',').strip('.'))\n",
    "    # Nameless Order\n",
    "    else:\n",
    "        dog_names.append('NaN')\n",
    "df_master['dog_name'] = dog_names # Create NEW column for dog_name\n",
    "print(len(dog_names), 'have been extracted and placed in a new column \"dog_name\"') # Confirmation of the creation of dog names"
   ]
  },
  {
   "cell_type": "markdown",
   "metadata": {},
   "source": [
    "__Define__ : Issue C6 (See Above)\n",
    "__Code__: pd.drop()\n",
    "__Test__: See next cell that has the comments # Confirmation"
   ]
  },
  {
   "cell_type": "code",
   "execution_count": 27,
   "metadata": {},
   "outputs": [
    {
     "data": {
      "text/html": [
       "<div>\n",
       "<style scoped>\n",
       "    .dataframe tbody tr th:only-of-type {\n",
       "        vertical-align: middle;\n",
       "    }\n",
       "\n",
       "    .dataframe tbody tr th {\n",
       "        vertical-align: top;\n",
       "    }\n",
       "\n",
       "    .dataframe thead th {\n",
       "        text-align: right;\n",
       "    }\n",
       "</style>\n",
       "<table border=\"1\" class=\"dataframe\">\n",
       "  <thead>\n",
       "    <tr style=\"text-align: right;\">\n",
       "      <th></th>\n",
       "      <th>tweet_id</th>\n",
       "      <th>timestamp</th>\n",
       "      <th>source</th>\n",
       "      <th>text</th>\n",
       "      <th>expanded_urls</th>\n",
       "      <th>rating_numerator</th>\n",
       "      <th>rating_denominator</th>\n",
       "      <th>jpg_url</th>\n",
       "      <th>favorites</th>\n",
       "      <th>retweets</th>\n",
       "      <th>user_followers</th>\n",
       "      <th>dog_stage</th>\n",
       "      <th>prediction</th>\n",
       "      <th>confidence_level</th>\n",
       "      <th>dog_name</th>\n",
       "    </tr>\n",
       "  </thead>\n",
       "  <tbody>\n",
       "    <tr>\n",
       "      <th>1918</th>\n",
       "      <td>667405339315146752</td>\n",
       "      <td>2015-11-19 18:13:27 +0000</td>\n",
       "      <td>Twitter for iPhone</td>\n",
       "      <td>This is Biden. Biden just tripped... 7/10 http...</td>\n",
       "      <td>https://twitter.com/dog_rates/status/667405339...</td>\n",
       "      <td>7</td>\n",
       "      <td>10</td>\n",
       "      <td>https://pbs.twimg.com/media/CUMZnmhUEAEbtis.jpg</td>\n",
       "      <td>483.0</td>\n",
       "      <td>230.0</td>\n",
       "      <td>5634635.0</td>\n",
       "      <td>None</td>\n",
       "      <td>Saint_Bernard</td>\n",
       "      <td>0.381377</td>\n",
       "      <td>Biden</td>\n",
       "    </tr>\n",
       "    <tr>\n",
       "      <th>1917</th>\n",
       "      <td>667435689202614272</td>\n",
       "      <td>2015-11-19 20:14:03 +0000</td>\n",
       "      <td>Twitter for iPhone</td>\n",
       "      <td>Ermergerd 12/10 https://t.co/PQni2sjPsm</td>\n",
       "      <td>https://twitter.com/dog_rates/status/667435689...</td>\n",
       "      <td>12</td>\n",
       "      <td>10</td>\n",
       "      <td>https://pbs.twimg.com/media/CUM1OHCW4AEgGSi.jpg</td>\n",
       "      <td>319.0</td>\n",
       "      <td>87.0</td>\n",
       "      <td>5634635.0</td>\n",
       "      <td>None</td>\n",
       "      <td>Rottweiler</td>\n",
       "      <td>0.999091</td>\n",
       "      <td>NaN</td>\n",
       "    </tr>\n",
       "    <tr>\n",
       "      <th>1916</th>\n",
       "      <td>667437278097252352</td>\n",
       "      <td>2015-11-19 20:20:22 +0000</td>\n",
       "      <td>Twitter for iPhone</td>\n",
       "      <td>Never seen this breed before. Very pointy pup....</td>\n",
       "      <td>https://twitter.com/dog_rates/status/667437278...</td>\n",
       "      <td>10</td>\n",
       "      <td>10</td>\n",
       "      <td>https://pbs.twimg.com/media/CUM2qWaWoAUZ06L.jpg</td>\n",
       "      <td>471.0</td>\n",
       "      <td>255.0</td>\n",
       "      <td>5634635.0</td>\n",
       "      <td>None</td>\n",
       "      <td>NaN</td>\n",
       "      <td>0.000000</td>\n",
       "      <td>NaN</td>\n",
       "    </tr>\n",
       "    <tr>\n",
       "      <th>1915</th>\n",
       "      <td>667443425659232256</td>\n",
       "      <td>2015-11-19 20:44:47 +0000</td>\n",
       "      <td>Twitter for iPhone</td>\n",
       "      <td>Exotic dog here. Long neck. Weird paws. Obsess...</td>\n",
       "      <td>https://twitter.com/dog_rates/status/667443425...</td>\n",
       "      <td>6</td>\n",
       "      <td>10</td>\n",
       "      <td>https://pbs.twimg.com/media/CUM8QZwW4AAVsBl.jpg</td>\n",
       "      <td>816.0</td>\n",
       "      <td>614.0</td>\n",
       "      <td>5634635.0</td>\n",
       "      <td>None</td>\n",
       "      <td>NaN</td>\n",
       "      <td>0.000000</td>\n",
       "      <td>NaN</td>\n",
       "    </tr>\n",
       "    <tr>\n",
       "      <th>1914</th>\n",
       "      <td>667453023279554560</td>\n",
       "      <td>2015-11-19 21:22:56 +0000</td>\n",
       "      <td>Twitter Web Client</td>\n",
       "      <td>Meet Cupcake. I would do unspeakable things fo...</td>\n",
       "      <td>https://twitter.com/dog_rates/status/667453023...</td>\n",
       "      <td>11</td>\n",
       "      <td>10</td>\n",
       "      <td>https://pbs.twimg.com/media/CUNE_OSUwAAdHhX.jpg</td>\n",
       "      <td>323.0</td>\n",
       "      <td>95.0</td>\n",
       "      <td>5634635.0</td>\n",
       "      <td>None</td>\n",
       "      <td>Labrador_retriever</td>\n",
       "      <td>0.825670</td>\n",
       "      <td>Cupcake</td>\n",
       "    </tr>\n",
       "  </tbody>\n",
       "</table>\n",
       "</div>"
      ],
      "text/plain": [
       "                tweet_id                  timestamp              source  \\\n",
       "1918  667405339315146752  2015-11-19 18:13:27 +0000  Twitter for iPhone   \n",
       "1917  667435689202614272  2015-11-19 20:14:03 +0000  Twitter for iPhone   \n",
       "1916  667437278097252352  2015-11-19 20:20:22 +0000  Twitter for iPhone   \n",
       "1915  667443425659232256  2015-11-19 20:44:47 +0000  Twitter for iPhone   \n",
       "1914  667453023279554560  2015-11-19 21:22:56 +0000  Twitter Web Client   \n",
       "\n",
       "                                                   text  \\\n",
       "1918  This is Biden. Biden just tripped... 7/10 http...   \n",
       "1917            Ermergerd 12/10 https://t.co/PQni2sjPsm   \n",
       "1916  Never seen this breed before. Very pointy pup....   \n",
       "1915  Exotic dog here. Long neck. Weird paws. Obsess...   \n",
       "1914  Meet Cupcake. I would do unspeakable things fo...   \n",
       "\n",
       "                                          expanded_urls  rating_numerator  \\\n",
       "1918  https://twitter.com/dog_rates/status/667405339...                 7   \n",
       "1917  https://twitter.com/dog_rates/status/667435689...                12   \n",
       "1916  https://twitter.com/dog_rates/status/667437278...                10   \n",
       "1915  https://twitter.com/dog_rates/status/667443425...                 6   \n",
       "1914  https://twitter.com/dog_rates/status/667453023...                11   \n",
       "\n",
       "      rating_denominator                                          jpg_url  \\\n",
       "1918                  10  https://pbs.twimg.com/media/CUMZnmhUEAEbtis.jpg   \n",
       "1917                  10  https://pbs.twimg.com/media/CUM1OHCW4AEgGSi.jpg   \n",
       "1916                  10  https://pbs.twimg.com/media/CUM2qWaWoAUZ06L.jpg   \n",
       "1915                  10  https://pbs.twimg.com/media/CUM8QZwW4AAVsBl.jpg   \n",
       "1914                  10  https://pbs.twimg.com/media/CUNE_OSUwAAdHhX.jpg   \n",
       "\n",
       "      favorites  retweets  user_followers dog_stage          prediction  \\\n",
       "1918      483.0     230.0       5634635.0      None       Saint_Bernard   \n",
       "1917      319.0      87.0       5634635.0      None          Rottweiler   \n",
       "1916      471.0     255.0       5634635.0      None                 NaN   \n",
       "1915      816.0     614.0       5634635.0      None                 NaN   \n",
       "1914      323.0      95.0       5634635.0      None  Labrador_retriever   \n",
       "\n",
       "      confidence_level dog_name  \n",
       "1918          0.381377    Biden  \n",
       "1917          0.999091      NaN  \n",
       "1916          0.000000      NaN  \n",
       "1915          0.000000      NaN  \n",
       "1914          0.825670  Cupcake  "
      ]
     },
     "execution_count": 27,
     "metadata": {},
     "output_type": "execute_result"
    }
   ],
   "source": [
    "# Stage 3p - Cleaning Data - C6 - Missing Data (Part VII) - Remove column (name)\n",
    "df_master = df_master.drop(['name'], 1)\n",
    "df_master.head() # Confirmation of the removal of name"
   ]
  },
  {
   "cell_type": "markdown",
   "metadata": {},
   "source": [
    "__Define__ : Issue C4 (See Above)\n",
    "__Code__: see below\n",
    "__Test__: See next cell that has the comments # Confirmation"
   ]
  },
  {
   "cell_type": "code",
   "execution_count": 28,
   "metadata": {},
   "outputs": [
    {
     "name": "stdout",
     "output_type": "stream",
     "text": [
      "1994 have been extracted and filled into a new column \"dog_gender\"\n"
     ]
    }
   ],
   "source": [
    "# Stage 3s - Cleaning Data - C4 - Missing Data (Part VIII) - Fill in Missing data - Gender of Dogs\n",
    "male = ['He', 'he', \"he's\",'him', 'himself', 'his']\n",
    "female = ['She', 'she', \"she's\", 'her', 'herself', 'hers']\n",
    "dog_gender = [] # List to hold extracted data (gender of dogs)\n",
    "\n",
    "for text in df_master['text']:\n",
    "    if any(map(lambda v:v in male, text.split())): # Male\n",
    "        dog_gender.append('male')\n",
    "    elif any(map(lambda v:v in female, text.split())): # Dora Milaje (Female)\n",
    "        dog_gender.append('female')\n",
    "    else:     # Genderless Order\n",
    "        dog_gender.append('NaN')\n",
    "df_master['dog_gender'] = dog_gender # Creation of new column 'dog_gender'\n",
    "print(len(dog_gender), 'have been extracted and filled into a new column \"dog_gender\"') # Confirmation of the creation of dog names"
   ]
  },
  {
   "cell_type": "code",
   "execution_count": 29,
   "metadata": {},
   "outputs": [
    {
     "name": "stdout",
     "output_type": "stream",
     "text": [
      "<class 'pandas.core.frame.DataFrame'>\n",
      "Int64Index: 1994 entries, 1918 to 6764\n",
      "Data columns (total 16 columns):\n",
      "tweet_id              1994 non-null int64\n",
      "timestamp             1994 non-null object\n",
      "source                1994 non-null object\n",
      "text                  1994 non-null object\n",
      "expanded_urls         1994 non-null object\n",
      "rating_numerator      1994 non-null int64\n",
      "rating_denominator    1994 non-null int64\n",
      "jpg_url               1994 non-null object\n",
      "favorites             1994 non-null float64\n",
      "retweets              1994 non-null float64\n",
      "user_followers        1994 non-null float64\n",
      "dog_stage             1994 non-null object\n",
      "prediction            1994 non-null object\n",
      "confidence_level      1994 non-null float64\n",
      "dog_name              1994 non-null object\n",
      "dog_gender            1994 non-null object\n",
      "dtypes: float64(4), int64(3), object(9)\n",
      "memory usage: 344.8+ KB\n"
     ]
    }
   ],
   "source": [
    "# Stage 3t - Cleaning Data - C2 - None Values\n",
    "df_master.info() # Investigating "
   ]
  },
  {
   "cell_type": "markdown",
   "metadata": {},
   "source": [
    "__Define__ : Issue C2 (See Above)\n",
    "__Code__: .loc[]\n",
    "__Test__: See next cell that has the comments # Confirmation"
   ]
  },
  {
   "cell_type": "code",
   "execution_count": 30,
   "metadata": {},
   "outputs": [
    {
     "name": "stdout",
     "output_type": "stream",
     "text": [
      "<class 'pandas.core.frame.DataFrame'>\n",
      "Int64Index: 1994 entries, 1918 to 6764\n",
      "Data columns (total 16 columns):\n",
      "tweet_id              1994 non-null int64\n",
      "timestamp             1994 non-null object\n",
      "source                1994 non-null object\n",
      "text                  1994 non-null object\n",
      "expanded_urls         1994 non-null object\n",
      "rating_numerator      1994 non-null int64\n",
      "rating_denominator    1994 non-null int64\n",
      "jpg_url               1994 non-null object\n",
      "favorites             1994 non-null float64\n",
      "retweets              1994 non-null float64\n",
      "user_followers        1994 non-null float64\n",
      "dog_stage             1994 non-null object\n",
      "prediction            1686 non-null object\n",
      "confidence_level      1994 non-null float64\n",
      "dog_name              1369 non-null object\n",
      "dog_gender            862 non-null object\n",
      "dtypes: float64(4), int64(3), object(9)\n",
      "memory usage: 344.8+ KB\n"
     ]
    },
    {
     "data": {
      "text/html": [
       "<div>\n",
       "<style scoped>\n",
       "    .dataframe tbody tr th:only-of-type {\n",
       "        vertical-align: middle;\n",
       "    }\n",
       "\n",
       "    .dataframe tbody tr th {\n",
       "        vertical-align: top;\n",
       "    }\n",
       "\n",
       "    .dataframe thead th {\n",
       "        text-align: right;\n",
       "    }\n",
       "</style>\n",
       "<table border=\"1\" class=\"dataframe\">\n",
       "  <thead>\n",
       "    <tr style=\"text-align: right;\">\n",
       "      <th></th>\n",
       "      <th>tweet_id</th>\n",
       "      <th>timestamp</th>\n",
       "      <th>source</th>\n",
       "      <th>text</th>\n",
       "      <th>expanded_urls</th>\n",
       "      <th>rating_numerator</th>\n",
       "      <th>rating_denominator</th>\n",
       "      <th>jpg_url</th>\n",
       "      <th>favorites</th>\n",
       "      <th>retweets</th>\n",
       "      <th>user_followers</th>\n",
       "      <th>dog_stage</th>\n",
       "      <th>prediction</th>\n",
       "      <th>confidence_level</th>\n",
       "      <th>dog_name</th>\n",
       "      <th>dog_gender</th>\n",
       "    </tr>\n",
       "  </thead>\n",
       "  <tbody>\n",
       "    <tr>\n",
       "      <th>1918</th>\n",
       "      <td>667405339315146752</td>\n",
       "      <td>2015-11-19 18:13:27 +0000</td>\n",
       "      <td>Twitter for iPhone</td>\n",
       "      <td>This is Biden. Biden just tripped... 7/10 http...</td>\n",
       "      <td>https://twitter.com/dog_rates/status/667405339...</td>\n",
       "      <td>7</td>\n",
       "      <td>10</td>\n",
       "      <td>https://pbs.twimg.com/media/CUMZnmhUEAEbtis.jpg</td>\n",
       "      <td>483.0</td>\n",
       "      <td>230.0</td>\n",
       "      <td>5634635.0</td>\n",
       "      <td>None</td>\n",
       "      <td>Saint_Bernard</td>\n",
       "      <td>0.381377</td>\n",
       "      <td>Biden</td>\n",
       "      <td>None</td>\n",
       "    </tr>\n",
       "    <tr>\n",
       "      <th>1917</th>\n",
       "      <td>667435689202614272</td>\n",
       "      <td>2015-11-19 20:14:03 +0000</td>\n",
       "      <td>Twitter for iPhone</td>\n",
       "      <td>Ermergerd 12/10 https://t.co/PQni2sjPsm</td>\n",
       "      <td>https://twitter.com/dog_rates/status/667435689...</td>\n",
       "      <td>12</td>\n",
       "      <td>10</td>\n",
       "      <td>https://pbs.twimg.com/media/CUM1OHCW4AEgGSi.jpg</td>\n",
       "      <td>319.0</td>\n",
       "      <td>87.0</td>\n",
       "      <td>5634635.0</td>\n",
       "      <td>None</td>\n",
       "      <td>Rottweiler</td>\n",
       "      <td>0.999091</td>\n",
       "      <td>None</td>\n",
       "      <td>None</td>\n",
       "    </tr>\n",
       "    <tr>\n",
       "      <th>1916</th>\n",
       "      <td>667437278097252352</td>\n",
       "      <td>2015-11-19 20:20:22 +0000</td>\n",
       "      <td>Twitter for iPhone</td>\n",
       "      <td>Never seen this breed before. Very pointy pup....</td>\n",
       "      <td>https://twitter.com/dog_rates/status/667437278...</td>\n",
       "      <td>10</td>\n",
       "      <td>10</td>\n",
       "      <td>https://pbs.twimg.com/media/CUM2qWaWoAUZ06L.jpg</td>\n",
       "      <td>471.0</td>\n",
       "      <td>255.0</td>\n",
       "      <td>5634635.0</td>\n",
       "      <td>None</td>\n",
       "      <td>None</td>\n",
       "      <td>0.000000</td>\n",
       "      <td>None</td>\n",
       "      <td>None</td>\n",
       "    </tr>\n",
       "    <tr>\n",
       "      <th>1915</th>\n",
       "      <td>667443425659232256</td>\n",
       "      <td>2015-11-19 20:44:47 +0000</td>\n",
       "      <td>Twitter for iPhone</td>\n",
       "      <td>Exotic dog here. Long neck. Weird paws. Obsess...</td>\n",
       "      <td>https://twitter.com/dog_rates/status/667443425...</td>\n",
       "      <td>6</td>\n",
       "      <td>10</td>\n",
       "      <td>https://pbs.twimg.com/media/CUM8QZwW4AAVsBl.jpg</td>\n",
       "      <td>816.0</td>\n",
       "      <td>614.0</td>\n",
       "      <td>5634635.0</td>\n",
       "      <td>None</td>\n",
       "      <td>None</td>\n",
       "      <td>0.000000</td>\n",
       "      <td>None</td>\n",
       "      <td>None</td>\n",
       "    </tr>\n",
       "    <tr>\n",
       "      <th>1914</th>\n",
       "      <td>667453023279554560</td>\n",
       "      <td>2015-11-19 21:22:56 +0000</td>\n",
       "      <td>Twitter Web Client</td>\n",
       "      <td>Meet Cupcake. I would do unspeakable things fo...</td>\n",
       "      <td>https://twitter.com/dog_rates/status/667453023...</td>\n",
       "      <td>11</td>\n",
       "      <td>10</td>\n",
       "      <td>https://pbs.twimg.com/media/CUNE_OSUwAAdHhX.jpg</td>\n",
       "      <td>323.0</td>\n",
       "      <td>95.0</td>\n",
       "      <td>5634635.0</td>\n",
       "      <td>None</td>\n",
       "      <td>Labrador_retriever</td>\n",
       "      <td>0.825670</td>\n",
       "      <td>Cupcake</td>\n",
       "      <td>None</td>\n",
       "    </tr>\n",
       "  </tbody>\n",
       "</table>\n",
       "</div>"
      ],
      "text/plain": [
       "                tweet_id                  timestamp              source  \\\n",
       "1918  667405339315146752  2015-11-19 18:13:27 +0000  Twitter for iPhone   \n",
       "1917  667435689202614272  2015-11-19 20:14:03 +0000  Twitter for iPhone   \n",
       "1916  667437278097252352  2015-11-19 20:20:22 +0000  Twitter for iPhone   \n",
       "1915  667443425659232256  2015-11-19 20:44:47 +0000  Twitter for iPhone   \n",
       "1914  667453023279554560  2015-11-19 21:22:56 +0000  Twitter Web Client   \n",
       "\n",
       "                                                   text  \\\n",
       "1918  This is Biden. Biden just tripped... 7/10 http...   \n",
       "1917            Ermergerd 12/10 https://t.co/PQni2sjPsm   \n",
       "1916  Never seen this breed before. Very pointy pup....   \n",
       "1915  Exotic dog here. Long neck. Weird paws. Obsess...   \n",
       "1914  Meet Cupcake. I would do unspeakable things fo...   \n",
       "\n",
       "                                          expanded_urls  rating_numerator  \\\n",
       "1918  https://twitter.com/dog_rates/status/667405339...                 7   \n",
       "1917  https://twitter.com/dog_rates/status/667435689...                12   \n",
       "1916  https://twitter.com/dog_rates/status/667437278...                10   \n",
       "1915  https://twitter.com/dog_rates/status/667443425...                 6   \n",
       "1914  https://twitter.com/dog_rates/status/667453023...                11   \n",
       "\n",
       "      rating_denominator                                          jpg_url  \\\n",
       "1918                  10  https://pbs.twimg.com/media/CUMZnmhUEAEbtis.jpg   \n",
       "1917                  10  https://pbs.twimg.com/media/CUM1OHCW4AEgGSi.jpg   \n",
       "1916                  10  https://pbs.twimg.com/media/CUM2qWaWoAUZ06L.jpg   \n",
       "1915                  10  https://pbs.twimg.com/media/CUM8QZwW4AAVsBl.jpg   \n",
       "1914                  10  https://pbs.twimg.com/media/CUNE_OSUwAAdHhX.jpg   \n",
       "\n",
       "      favorites  retweets  user_followers dog_stage          prediction  \\\n",
       "1918      483.0     230.0       5634635.0      None       Saint_Bernard   \n",
       "1917      319.0      87.0       5634635.0      None          Rottweiler   \n",
       "1916      471.0     255.0       5634635.0      None                None   \n",
       "1915      816.0     614.0       5634635.0      None                None   \n",
       "1914      323.0      95.0       5634635.0      None  Labrador_retriever   \n",
       "\n",
       "      confidence_level dog_name dog_gender  \n",
       "1918          0.381377    Biden       None  \n",
       "1917          0.999091     None       None  \n",
       "1916          0.000000     None       None  \n",
       "1915          0.000000     None       None  \n",
       "1914          0.825670  Cupcake       None  "
      ]
     },
     "execution_count": 30,
     "metadata": {},
     "output_type": "execute_result"
    }
   ],
   "source": [
    "# Stage 3u - Cleaning Data - C2 - None Values\n",
    "df_master.loc[df_master['prediction'] == 'NaN', 'prediction'] = None\n",
    "df_master.loc[df_master['dog_name'] == 'NaN', 'dog_name'] = None\n",
    "df_master.loc[df_master['dog_gender'] == 'NaN', 'dog_gender'] = None\n",
    "df_master.info()\n",
    "df_master.head()"
   ]
  },
  {
   "cell_type": "markdown",
   "metadata": {},
   "source": [
    "__Define__ : Issue T3 and C7 (See Above)\n",
    "__Code__: .astype()\n",
    "__Test__: See next cell that has the comments # Confirmation"
   ]
  },
  {
   "cell_type": "code",
   "execution_count": 31,
   "metadata": {},
   "outputs": [
    {
     "data": {
      "text/plain": [
       "tweet_id                      object\n",
       "timestamp             datetime64[ns]\n",
       "source                      category\n",
       "text                          object\n",
       "expanded_urls                 object\n",
       "rating_numerator               int64\n",
       "rating_denominator             int64\n",
       "jpg_url                       object\n",
       "favorites                      int32\n",
       "retweets                       int32\n",
       "user_followers                 int32\n",
       "dog_stage                   category\n",
       "prediction                    object\n",
       "confidence_level             float64\n",
       "dog_name                      object\n",
       "dog_gender                  category\n",
       "dtype: object"
      ]
     },
     "execution_count": 31,
     "metadata": {},
     "output_type": "execute_result"
    }
   ],
   "source": [
    "# Stage 3u - Cleaning Data - T3 and C7 - Correcting Types\n",
    "df_master['timestamp'] = pd.to_datetime(df_master.timestamp) # Correcting C7\n",
    "df_master['tweet_id'] = df_master['tweet_id'].astype(object) # Correcting T3\n",
    "df_master['source'] = df_master['source'].astype('category') # Correcting T3\n",
    "df_master['favorites'] = df_master['favorites'].astype(int) # Correcting T3\n",
    "df_master['retweets'] = df_master['retweets'].astype(int) # Correcting T3\n",
    "df_master['user_followers'] = df_master['user_followers'].astype(int) # Correcting T3\n",
    "df_master['dog_stage'] = df_master['dog_stage'].astype('category') # Correcting T3\n",
    "df_master['dog_gender'] = df_master['dog_gender'].astype('category') # Correcting T3\n",
    "df_master.dtypes # Confirmation of correction"
   ]
  },
  {
   "cell_type": "markdown",
   "metadata": {},
   "source": [
    "__Define__ : Issue T1 (See Above)\n",
    "__Code__: .rename()\n",
    "__Test__: See next cell that has the comments # Confirmation"
   ]
  },
  {
   "cell_type": "code",
   "execution_count": 32,
   "metadata": {},
   "outputs": [
    {
     "data": {
      "text/plain": [
       "['tweet_id',\n",
       " 'tweet_date',\n",
       " 'tweet_source',\n",
       " 'tweet_text',\n",
       " 'tweet_url',\n",
       " 'rating_numerator',\n",
       " 'rating_denominator',\n",
       " 'tweet_picture_predicted',\n",
       " 'tweet_favorites',\n",
       " 'tweet_retweets',\n",
       " 'user_followers',\n",
       " 'dog_stage',\n",
       " 'dog_breed',\n",
       " 'confidence_level',\n",
       " 'dog_name',\n",
       " 'dog_gender']"
      ]
     },
     "execution_count": 32,
     "metadata": {},
     "output_type": "execute_result"
    }
   ],
   "source": [
    "# Stage 3v - Cleaning Data - T1 - Renaming Columns\n",
    "df_master = df_master.rename(columns = {'timestamp': 'tweet_date', 'source': 'tweet_source', 'text': 'tweet_text', \n",
    "                                        'expanded_urls': 'tweet_url', 'jpg_url': 'tweet_picture_predicted', \n",
    "                                        'favorites': 'tweet_favorites', 'retweets': 'tweet_retweets',\n",
    "                                        'prediction' : 'dog_breed'})\n",
    "list(df_master) # Confirmation of Renaming Columns and Removal"
   ]
  },
  {
   "cell_type": "markdown",
   "metadata": {},
   "source": [
    "__Define__ : Issue D4 (See Above)\n",
    "__Code__: see next cell\n",
    "__Test__: See next cell that has the comments # Confirmation"
   ]
  },
  {
   "cell_type": "code",
   "execution_count": 33,
   "metadata": {},
   "outputs": [
    {
     "data": {
      "text/plain": [
       "count    1994.000000\n",
       "mean        1.169249\n",
       "std         4.067071\n",
       "min         0.000000\n",
       "25%         1.000000\n",
       "50%         1.100000\n",
       "75%         1.200000\n",
       "max       177.600000\n",
       "Name: rating, dtype: float64"
      ]
     },
     "execution_count": 33,
     "metadata": {},
     "output_type": "execute_result"
    }
   ],
   "source": [
    "# Stage 3w - Cleaning Data - D4 - Creating New Rating\n",
    "rating = df_master['rating_numerator'] / df_master['rating_denominator']\n",
    "df_master['rating'] = rating\n",
    "df_master['rating'].describe() # Confirmation of new column"
   ]
  },
  {
   "cell_type": "markdown",
   "metadata": {},
   "source": [
    "__Define__ : Issue C8 and D4 (See Above)\n",
    "__Code__: def and operations\n",
    "__Test__: See next cell that has the comments # Confirmation"
   ]
  },
  {
   "cell_type": "code",
   "execution_count": 34,
   "metadata": {},
   "outputs": [
    {
     "data": {
      "text/plain": [
       "count    1991.000000\n",
       "mean       10.569478\n",
       "std         2.310086\n",
       "min         0.000000\n",
       "25%        10.000000\n",
       "50%        11.000000\n",
       "75%        12.000000\n",
       "max        34.285714\n",
       "Name: rating_clean, dtype: float64"
      ]
     },
     "execution_count": 34,
     "metadata": {},
     "output_type": "execute_result"
    }
   ],
   "source": [
    "# Stage 3x - Cleaning Data - C8 and D4 - Removing Outlier for rating\n",
    "def outlier(x, m=3):\n",
    "    data = pd.DataFrame(x)\n",
    "    clean_data = data[np.abs(data-data.mean())<=(m*data.std())]\n",
    "    return clean_data\n",
    "\n",
    "df_master['rating_clean'] = (outlier(rating, m=1))*10\n",
    "df_master['rating_clean'].describe() # Confirmation of new column"
   ]
  },
  {
   "cell_type": "markdown",
   "metadata": {},
   "source": [
    "Note: Since 75th percentile is at the rating 12, we will put an upper limit of 15. Since there are only a few outliers. It would not change skew too much. "
   ]
  },
  {
   "cell_type": "markdown",
   "metadata": {},
   "source": [
    "__Define__ : Issue C8 and D4 (See Above)\n",
    "__Code__: See next cell\n",
    "__Test__: See next cell that has the comments # Confirmation"
   ]
  },
  {
   "cell_type": "code",
   "execution_count": 35,
   "metadata": {},
   "outputs": [
    {
     "name": "stderr",
     "output_type": "stream",
     "text": [
      "C:\\Users\\sofya_000\\Anaconda3\\lib\\site-packages\\ipykernel_launcher.py:2: SettingWithCopyWarning: \n",
      "A value is trying to be set on a copy of a slice from a DataFrame\n",
      "\n",
      "See the caveats in the documentation: http://pandas.pydata.org/pandas-docs/stable/indexing.html#indexing-view-versus-copy\n",
      "  \n"
     ]
    },
    {
     "data": {
      "text/plain": [
       "count    1991.00000\n",
       "mean       10.54824\n",
       "std         2.19720\n",
       "min         0.00000\n",
       "25%        10.00000\n",
       "50%        11.00000\n",
       "75%        12.00000\n",
       "max        15.00000\n",
       "Name: rating_clean, dtype: float64"
      ]
     },
     "execution_count": 35,
     "metadata": {},
     "output_type": "execute_result"
    }
   ],
   "source": [
    "# Stage 3y - Cleaning Data - C8 and D4 - Changing remaining outlier to 15\n",
    "df_master['rating_clean'][(df_master['rating_clean'] > 15)] = 15\n",
    "df_master['rating_clean'].describe() # Confirmation of new max for 'rating_column'"
   ]
  },
  {
   "cell_type": "markdown",
   "metadata": {},
   "source": [
    "__Define__ : Issue C8 and D4 (See Above)\n",
    "__Code__: pd.drop()\n",
    "__Test__: See next cell that has the comments # Confirmation"
   ]
  },
  {
   "cell_type": "code",
   "execution_count": 36,
   "metadata": {},
   "outputs": [
    {
     "name": "stdout",
     "output_type": "stream",
     "text": [
      "                tweet_id          tweet_date        tweet_source  \\\n",
      "1918  667405339315146752 2015-11-19 18:13:27  Twitter for iPhone   \n",
      "1917  667435689202614272 2015-11-19 20:14:03  Twitter for iPhone   \n",
      "1916  667437278097252352 2015-11-19 20:20:22  Twitter for iPhone   \n",
      "1915  667443425659232256 2015-11-19 20:44:47  Twitter for iPhone   \n",
      "1914  667453023279554560 2015-11-19 21:22:56  Twitter Web Client   \n",
      "\n",
      "                                             tweet_text  \\\n",
      "1918  This is Biden. Biden just tripped... 7/10 http...   \n",
      "1917            Ermergerd 12/10 https://t.co/PQni2sjPsm   \n",
      "1916  Never seen this breed before. Very pointy pup....   \n",
      "1915  Exotic dog here. Long neck. Weird paws. Obsess...   \n",
      "1914  Meet Cupcake. I would do unspeakable things fo...   \n",
      "\n",
      "                                              tweet_url  \\\n",
      "1918  https://twitter.com/dog_rates/status/667405339...   \n",
      "1917  https://twitter.com/dog_rates/status/667435689...   \n",
      "1916  https://twitter.com/dog_rates/status/667437278...   \n",
      "1915  https://twitter.com/dog_rates/status/667443425...   \n",
      "1914  https://twitter.com/dog_rates/status/667453023...   \n",
      "\n",
      "                              tweet_picture_predicted  tweet_favorites  \\\n",
      "1918  https://pbs.twimg.com/media/CUMZnmhUEAEbtis.jpg              483   \n",
      "1917  https://pbs.twimg.com/media/CUM1OHCW4AEgGSi.jpg              319   \n",
      "1916  https://pbs.twimg.com/media/CUM2qWaWoAUZ06L.jpg              471   \n",
      "1915  https://pbs.twimg.com/media/CUM8QZwW4AAVsBl.jpg              816   \n",
      "1914  https://pbs.twimg.com/media/CUNE_OSUwAAdHhX.jpg              323   \n",
      "\n",
      "      tweet_retweets  user_followers dog_stage           dog_breed  \\\n",
      "1918             230         5634635      None       Saint_Bernard   \n",
      "1917              87         5634635      None          Rottweiler   \n",
      "1916             255         5634635      None                None   \n",
      "1915             614         5634635      None                None   \n",
      "1914              95         5634635      None  Labrador_retriever   \n",
      "\n",
      "      confidence_level dog_name dog_gender  rating_clean  \n",
      "1918          0.381377    Biden        NaN           7.0  \n",
      "1917          0.999091     None        NaN          12.0  \n",
      "1916          0.000000     None        NaN          10.0  \n",
      "1915          0.000000     None        NaN           6.0  \n",
      "1914          0.825670  Cupcake        NaN          11.0  \n",
      "<class 'pandas.core.frame.DataFrame'>\n",
      "Int64Index: 1994 entries, 1918 to 6764\n",
      "Data columns (total 15 columns):\n",
      "tweet_id                   1994 non-null object\n",
      "tweet_date                 1994 non-null datetime64[ns]\n",
      "tweet_source               1994 non-null category\n",
      "tweet_text                 1994 non-null object\n",
      "tweet_url                  1994 non-null object\n",
      "tweet_picture_predicted    1994 non-null object\n",
      "tweet_favorites            1994 non-null int32\n",
      "tweet_retweets             1994 non-null int32\n",
      "user_followers             1994 non-null int32\n",
      "dog_stage                  1994 non-null category\n",
      "dog_breed                  1686 non-null object\n",
      "confidence_level           1994 non-null float64\n",
      "dog_name                   1369 non-null object\n",
      "dog_gender                 862 non-null category\n",
      "rating_clean               1991 non-null float64\n",
      "dtypes: category(3), datetime64[ns](1), float64(2), int32(3), object(6)\n",
      "memory usage: 185.4+ KB\n"
     ]
    }
   ],
   "source": [
    "# Stage 3z - Cleaning Data - C8 and D4 - Creating New Rating\n",
    "df_master = df_master.drop(['rating', 'rating_numerator', 'rating_denominator'], 1)\n",
    "print(df_master.head()) # Confirmation of removal of all OLD ratings\n",
    "df_master.info()"
   ]
  },
  {
   "cell_type": "code",
   "execution_count": 37,
   "metadata": {},
   "outputs": [
    {
     "data": {
      "text/html": [
       "<div>\n",
       "<style scoped>\n",
       "    .dataframe tbody tr th:only-of-type {\n",
       "        vertical-align: middle;\n",
       "    }\n",
       "\n",
       "    .dataframe tbody tr th {\n",
       "        vertical-align: top;\n",
       "    }\n",
       "\n",
       "    .dataframe thead th {\n",
       "        text-align: right;\n",
       "    }\n",
       "</style>\n",
       "<table border=\"1\" class=\"dataframe\">\n",
       "  <thead>\n",
       "    <tr style=\"text-align: right;\">\n",
       "      <th></th>\n",
       "      <th>tweet_id</th>\n",
       "      <th>tweet_date</th>\n",
       "      <th>tweet_source</th>\n",
       "      <th>tweet_text</th>\n",
       "      <th>tweet_url</th>\n",
       "      <th>tweet_picture_predicted</th>\n",
       "      <th>tweet_favorites</th>\n",
       "      <th>tweet_retweets</th>\n",
       "      <th>user_followers</th>\n",
       "      <th>dog_stage</th>\n",
       "      <th>dog_breed</th>\n",
       "      <th>confidence_level</th>\n",
       "      <th>dog_name</th>\n",
       "      <th>dog_gender</th>\n",
       "      <th>rating_clean</th>\n",
       "    </tr>\n",
       "  </thead>\n",
       "  <tbody>\n",
       "  </tbody>\n",
       "</table>\n",
       "</div>"
      ],
      "text/plain": [
       "Empty DataFrame\n",
       "Columns: [tweet_id, tweet_date, tweet_source, tweet_text, tweet_url, tweet_picture_predicted, tweet_favorites, tweet_retweets, user_followers, dog_stage, dog_breed, confidence_level, dog_name, dog_gender, rating_clean]\n",
       "Index: []"
      ]
     },
     "execution_count": 37,
     "metadata": {},
     "output_type": "execute_result"
    }
   ],
   "source": [
    "# Stage 3aa - 681340665377193000\n",
    "df_master[df_master['tweet_id'] == \"681340665377193000\"]"
   ]
  },
  {
   "cell_type": "markdown",
   "metadata": {},
   "source": [
    "## Stage 3 - Cleaning Data: Summary\n",
    "\n",
    "Data has been cleaned. Quality (C1 to C8), Tidiness (T1 to T3) and Data (D1 to D4) issues that have been highlighted have been addressed."
   ]
  },
  {
   "cell_type": "markdown",
   "metadata": {},
   "source": [
    "## Stage 4 - Storing Data"
   ]
  },
  {
   "cell_type": "code",
   "execution_count": 38,
   "metadata": {},
   "outputs": [],
   "source": [
    "# Stage 4a - Exporting Data to.csv as backup\n",
    "df_master.to_csv('twitter_project_clean.csv', index=False, encoding = 'utf-8')"
   ]
  },
  {
   "cell_type": "markdown",
   "metadata": {},
   "source": [
    "## Stage 4 - Storing Data: Summary\n",
    "The Data that has been cleaned is now exported to .csv for backup purposes. And if necessary allows the data to be shared and analysed at a later date. "
   ]
  },
  {
   "cell_type": "markdown",
   "metadata": {},
   "source": [
    "## Stage 5 - Analysing and Visualing the Data"
   ]
  },
  {
   "cell_type": "code",
   "execution_count": 39,
   "metadata": {},
   "outputs": [
    {
     "data": {
      "text/html": [
       "<div>\n",
       "<style scoped>\n",
       "    .dataframe tbody tr th:only-of-type {\n",
       "        vertical-align: middle;\n",
       "    }\n",
       "\n",
       "    .dataframe tbody tr th {\n",
       "        vertical-align: top;\n",
       "    }\n",
       "\n",
       "    .dataframe thead th {\n",
       "        text-align: right;\n",
       "    }\n",
       "</style>\n",
       "<table border=\"1\" class=\"dataframe\">\n",
       "  <thead>\n",
       "    <tr style=\"text-align: right;\">\n",
       "      <th></th>\n",
       "      <th>tweet_id</th>\n",
       "      <th>tweet_date</th>\n",
       "      <th>tweet_source</th>\n",
       "      <th>tweet_text</th>\n",
       "      <th>tweet_url</th>\n",
       "      <th>tweet_picture_predicted</th>\n",
       "      <th>tweet_favorites</th>\n",
       "      <th>tweet_retweets</th>\n",
       "      <th>user_followers</th>\n",
       "      <th>dog_stage</th>\n",
       "      <th>dog_breed</th>\n",
       "      <th>confidence_level</th>\n",
       "      <th>dog_name</th>\n",
       "      <th>dog_gender</th>\n",
       "      <th>rating_clean</th>\n",
       "    </tr>\n",
       "  </thead>\n",
       "  <tbody>\n",
       "    <tr>\n",
       "      <th>0</th>\n",
       "      <td>667405339315146752</td>\n",
       "      <td>2015-11-19 18:13:27</td>\n",
       "      <td>Twitter for iPhone</td>\n",
       "      <td>This is Biden. Biden just tripped... 7/10 http...</td>\n",
       "      <td>https://twitter.com/dog_rates/status/667405339...</td>\n",
       "      <td>https://pbs.twimg.com/media/CUMZnmhUEAEbtis.jpg</td>\n",
       "      <td>483</td>\n",
       "      <td>230</td>\n",
       "      <td>5634635</td>\n",
       "      <td>None</td>\n",
       "      <td>Saint_Bernard</td>\n",
       "      <td>0.381377</td>\n",
       "      <td>Biden</td>\n",
       "      <td>NaN</td>\n",
       "      <td>7.0</td>\n",
       "    </tr>\n",
       "    <tr>\n",
       "      <th>1</th>\n",
       "      <td>667435689202614272</td>\n",
       "      <td>2015-11-19 20:14:03</td>\n",
       "      <td>Twitter for iPhone</td>\n",
       "      <td>Ermergerd 12/10 https://t.co/PQni2sjPsm</td>\n",
       "      <td>https://twitter.com/dog_rates/status/667435689...</td>\n",
       "      <td>https://pbs.twimg.com/media/CUM1OHCW4AEgGSi.jpg</td>\n",
       "      <td>319</td>\n",
       "      <td>87</td>\n",
       "      <td>5634635</td>\n",
       "      <td>None</td>\n",
       "      <td>Rottweiler</td>\n",
       "      <td>0.999091</td>\n",
       "      <td>NaN</td>\n",
       "      <td>NaN</td>\n",
       "      <td>12.0</td>\n",
       "    </tr>\n",
       "    <tr>\n",
       "      <th>2</th>\n",
       "      <td>667437278097252352</td>\n",
       "      <td>2015-11-19 20:20:22</td>\n",
       "      <td>Twitter for iPhone</td>\n",
       "      <td>Never seen this breed before. Very pointy pup....</td>\n",
       "      <td>https://twitter.com/dog_rates/status/667437278...</td>\n",
       "      <td>https://pbs.twimg.com/media/CUM2qWaWoAUZ06L.jpg</td>\n",
       "      <td>471</td>\n",
       "      <td>255</td>\n",
       "      <td>5634635</td>\n",
       "      <td>None</td>\n",
       "      <td>NaN</td>\n",
       "      <td>0.000000</td>\n",
       "      <td>NaN</td>\n",
       "      <td>NaN</td>\n",
       "      <td>10.0</td>\n",
       "    </tr>\n",
       "    <tr>\n",
       "      <th>3</th>\n",
       "      <td>667443425659232256</td>\n",
       "      <td>2015-11-19 20:44:47</td>\n",
       "      <td>Twitter for iPhone</td>\n",
       "      <td>Exotic dog here. Long neck. Weird paws. Obsess...</td>\n",
       "      <td>https://twitter.com/dog_rates/status/667443425...</td>\n",
       "      <td>https://pbs.twimg.com/media/CUM8QZwW4AAVsBl.jpg</td>\n",
       "      <td>816</td>\n",
       "      <td>614</td>\n",
       "      <td>5634635</td>\n",
       "      <td>None</td>\n",
       "      <td>NaN</td>\n",
       "      <td>0.000000</td>\n",
       "      <td>NaN</td>\n",
       "      <td>NaN</td>\n",
       "      <td>6.0</td>\n",
       "    </tr>\n",
       "    <tr>\n",
       "      <th>4</th>\n",
       "      <td>667453023279554560</td>\n",
       "      <td>2015-11-19 21:22:56</td>\n",
       "      <td>Twitter Web Client</td>\n",
       "      <td>Meet Cupcake. I would do unspeakable things fo...</td>\n",
       "      <td>https://twitter.com/dog_rates/status/667453023...</td>\n",
       "      <td>https://pbs.twimg.com/media/CUNE_OSUwAAdHhX.jpg</td>\n",
       "      <td>323</td>\n",
       "      <td>95</td>\n",
       "      <td>5634635</td>\n",
       "      <td>None</td>\n",
       "      <td>Labrador_retriever</td>\n",
       "      <td>0.825670</td>\n",
       "      <td>Cupcake</td>\n",
       "      <td>NaN</td>\n",
       "      <td>11.0</td>\n",
       "    </tr>\n",
       "  </tbody>\n",
       "</table>\n",
       "</div>"
      ],
      "text/plain": [
       "             tweet_id           tweet_date        tweet_source  \\\n",
       "0  667405339315146752  2015-11-19 18:13:27  Twitter for iPhone   \n",
       "1  667435689202614272  2015-11-19 20:14:03  Twitter for iPhone   \n",
       "2  667437278097252352  2015-11-19 20:20:22  Twitter for iPhone   \n",
       "3  667443425659232256  2015-11-19 20:44:47  Twitter for iPhone   \n",
       "4  667453023279554560  2015-11-19 21:22:56  Twitter Web Client   \n",
       "\n",
       "                                          tweet_text  \\\n",
       "0  This is Biden. Biden just tripped... 7/10 http...   \n",
       "1            Ermergerd 12/10 https://t.co/PQni2sjPsm   \n",
       "2  Never seen this breed before. Very pointy pup....   \n",
       "3  Exotic dog here. Long neck. Weird paws. Obsess...   \n",
       "4  Meet Cupcake. I would do unspeakable things fo...   \n",
       "\n",
       "                                           tweet_url  \\\n",
       "0  https://twitter.com/dog_rates/status/667405339...   \n",
       "1  https://twitter.com/dog_rates/status/667435689...   \n",
       "2  https://twitter.com/dog_rates/status/667437278...   \n",
       "3  https://twitter.com/dog_rates/status/667443425...   \n",
       "4  https://twitter.com/dog_rates/status/667453023...   \n",
       "\n",
       "                           tweet_picture_predicted  tweet_favorites  \\\n",
       "0  https://pbs.twimg.com/media/CUMZnmhUEAEbtis.jpg              483   \n",
       "1  https://pbs.twimg.com/media/CUM1OHCW4AEgGSi.jpg              319   \n",
       "2  https://pbs.twimg.com/media/CUM2qWaWoAUZ06L.jpg              471   \n",
       "3  https://pbs.twimg.com/media/CUM8QZwW4AAVsBl.jpg              816   \n",
       "4  https://pbs.twimg.com/media/CUNE_OSUwAAdHhX.jpg              323   \n",
       "\n",
       "   tweet_retweets  user_followers dog_stage           dog_breed  \\\n",
       "0             230         5634635      None       Saint_Bernard   \n",
       "1              87         5634635      None          Rottweiler   \n",
       "2             255         5634635      None                 NaN   \n",
       "3             614         5634635      None                 NaN   \n",
       "4              95         5634635      None  Labrador_retriever   \n",
       "\n",
       "   confidence_level dog_name dog_gender  rating_clean  \n",
       "0          0.381377    Biden        NaN           7.0  \n",
       "1          0.999091      NaN        NaN          12.0  \n",
       "2          0.000000      NaN        NaN          10.0  \n",
       "3          0.000000      NaN        NaN           6.0  \n",
       "4          0.825670  Cupcake        NaN          11.0  "
      ]
     },
     "execution_count": 39,
     "metadata": {},
     "output_type": "execute_result"
    }
   ],
   "source": [
    "# Stage 5a - Loading Data - Final\n",
    "df_master = pd.read_csv('twitter_project_clean.csv')\n",
    "df_master.head()"
   ]
  },
  {
   "cell_type": "code",
   "execution_count": 40,
   "metadata": {},
   "outputs": [
    {
     "name": "stdout",
     "output_type": "stream",
     "text": [
      "             tweet_id           tweet_date        tweet_source  \\\n",
      "0  667405339315146752  2015-11-19 18:13:27  Twitter for iPhone   \n",
      "1  667435689202614272  2015-11-19 20:14:03  Twitter for iPhone   \n",
      "2  667437278097252352  2015-11-19 20:20:22  Twitter for iPhone   \n",
      "3  667443425659232256  2015-11-19 20:44:47  Twitter for iPhone   \n",
      "4  667453023279554560  2015-11-19 21:22:56  Twitter Web Client   \n",
      "\n",
      "                                          tweet_text  \\\n",
      "0  This is Biden. Biden just tripped... 7/10 http...   \n",
      "1            Ermergerd 12/10 https://t.co/PQni2sjPsm   \n",
      "2  Never seen this breed before. Very pointy pup....   \n",
      "3  Exotic dog here. Long neck. Weird paws. Obsess...   \n",
      "4  Meet Cupcake. I would do unspeakable things fo...   \n",
      "\n",
      "                                           tweet_url  \\\n",
      "0  https://twitter.com/dog_rates/status/667405339...   \n",
      "1  https://twitter.com/dog_rates/status/667435689...   \n",
      "2  https://twitter.com/dog_rates/status/667437278...   \n",
      "3  https://twitter.com/dog_rates/status/667443425...   \n",
      "4  https://twitter.com/dog_rates/status/667453023...   \n",
      "\n",
      "                           tweet_picture_predicted  tweet_favorites  \\\n",
      "0  https://pbs.twimg.com/media/CUMZnmhUEAEbtis.jpg              483   \n",
      "1  https://pbs.twimg.com/media/CUM1OHCW4AEgGSi.jpg              319   \n",
      "2  https://pbs.twimg.com/media/CUM2qWaWoAUZ06L.jpg              471   \n",
      "3  https://pbs.twimg.com/media/CUM8QZwW4AAVsBl.jpg              816   \n",
      "4  https://pbs.twimg.com/media/CUNE_OSUwAAdHhX.jpg              323   \n",
      "\n",
      "   tweet_retweets  user_followers dog_stage           dog_breed  \\\n",
      "0             230         5634635      None       Saint_Bernard   \n",
      "1              87         5634635      None          Rottweiler   \n",
      "2             255         5634635      None                 NaN   \n",
      "3             614         5634635      None                 NaN   \n",
      "4              95         5634635      None  Labrador_retriever   \n",
      "\n",
      "   confidence_level dog_name dog_gender  rating_clean  \n",
      "0          0.381377    Biden        NaN           7.0  \n",
      "1          0.999091      NaN        NaN          12.0  \n",
      "2          0.000000      NaN        NaN          10.0  \n",
      "3          0.000000      NaN        NaN           6.0  \n",
      "4          0.825670  Cupcake        NaN          11.0  \n",
      "<class 'pandas.core.frame.DataFrame'>\n",
      "RangeIndex: 1994 entries, 0 to 1993\n",
      "Data columns (total 15 columns):\n",
      "tweet_id                   1994 non-null int64\n",
      "tweet_date                 1994 non-null object\n",
      "tweet_source               1994 non-null object\n",
      "tweet_text                 1994 non-null object\n",
      "tweet_url                  1994 non-null object\n",
      "tweet_picture_predicted    1994 non-null object\n",
      "tweet_favorites            1994 non-null int64\n",
      "tweet_retweets             1994 non-null int64\n",
      "user_followers             1994 non-null int64\n",
      "dog_stage                  1994 non-null object\n",
      "dog_breed                  1686 non-null object\n",
      "confidence_level           1994 non-null float64\n",
      "dog_name                   1369 non-null object\n",
      "dog_gender                 862 non-null object\n",
      "rating_clean               1991 non-null float64\n",
      "dtypes: float64(2), int64(4), object(9)\n",
      "memory usage: 233.8+ KB\n"
     ]
    }
   ],
   "source": [
    "#Stage 5b - Visualizing your wrangled data - loading dataframe\n",
    "df_master = pd.read_csv('twitter_project_clean.csv')\n",
    "print(df_master.head())\n",
    "df_master.info()"
   ]
  },
  {
   "cell_type": "markdown",
   "metadata": {},
   "source": [
    "Note: \n",
    "From the df_master.info(), we can see that some of the types, surprisingly have reverted back to its original (eg. tweet_id, from object to int64), even though we changed it in Part I. This is probably due to the .csv save. Therefore we will need to reclassify their type."
   ]
  },
  {
   "cell_type": "code",
   "execution_count": 41,
   "metadata": {},
   "outputs": [
    {
     "name": "stdout",
     "output_type": "stream",
     "text": [
      "<class 'pandas.core.frame.DataFrame'>\n",
      "DatetimeIndex: 1994 entries, 2015-11-19 18:13:27 to 2016-06-16 01:25:36\n",
      "Data columns (total 14 columns):\n",
      "tweet_id                   1994 non-null object\n",
      "tweet_source               1994 non-null category\n",
      "tweet_text                 1994 non-null object\n",
      "tweet_url                  1994 non-null object\n",
      "tweet_picture_predicted    1994 non-null object\n",
      "tweet_favorites            1994 non-null int64\n",
      "tweet_retweets             1994 non-null int64\n",
      "user_followers             1994 non-null int64\n",
      "dog_stage                  1994 non-null category\n",
      "dog_breed                  1686 non-null object\n",
      "confidence_level           1994 non-null float64\n",
      "dog_name                   1369 non-null object\n",
      "dog_gender                 862 non-null category\n",
      "rating_clean               1991 non-null float64\n",
      "dtypes: category(3), float64(2), int64(3), object(6)\n",
      "memory usage: 193.2+ KB\n"
     ]
    }
   ],
   "source": [
    "#Stage 5c - Changing column types \n",
    "df_master['tweet_id'] = df_master['tweet_id'].astype(object)\n",
    "df_master['tweet_date'] = pd.to_datetime(df_master.tweet_date)\n",
    "df_master['tweet_source'] = df_master['tweet_source'].astype('category')\n",
    "df_master['dog_stage'] = df_master['dog_stage'].astype('category')\n",
    "df_master['dog_gender'] = df_master['dog_gender'].astype('category')\n",
    "df_master = df_master.set_index('tweet_date')\n",
    "df_master.info()"
   ]
  },
  {
   "cell_type": "markdown",
   "metadata": {},
   "source": [
    "#### Analysis Approach\n",
    "\n",
    "As WeRateDogs is all about dogs being rated. To start analysis, it is very important to have a research question to help duide the analysis. Therefore the research question is:\n",
    "\n",
    "#### Research Question: \"What type of tweets about Dogs will have the best rating?\"\n",
    "\n",
    "To answer the question. The analysis will be from 2 aspects, each with their respective question. \n",
    "\n",
    "1) Content - Is there a specific type (breeds, maturation, and gender) of dogs that is likely to be highly rated? \n",
    "    \n",
    "2) Pattern - Is there a trend to be found in the tweets (favorites, followers, source and retweets)? "
   ]
  },
  {
   "cell_type": "markdown",
   "metadata": {},
   "source": [
    "### 1) Content - Is there a specific type (breeds, maturation, and gender) of dogs that is likely to be highly rated? "
   ]
  },
  {
   "cell_type": "code",
   "execution_count": 42,
   "metadata": {},
   "outputs": [
    {
     "data": {
      "text/plain": [
       "Text(0,0.5,'dog_breed')"
      ]
     },
     "execution_count": 42,
     "metadata": {},
     "output_type": "execute_result"
    },
    {
     "data": {
      "text/plain": [
       "<matplotlib.figure.Figure at 0x12fc84260b8>"
      ]
     },
     "metadata": {},
     "output_type": "display_data"
    },
    {
     "data": {
      "image/png": "[encoded data removed]",
      "text/plain": [
       "<matplotlib.figure.Figure at 0x12fc87335c0>"
      ]
     },
     "metadata": {},
     "output_type": "display_data"
    }
   ],
   "source": [
    "#Stage 5d - Which Dog_breed is rated highly?\n",
    "df_breed = df_master.groupby('dog_breed').filter(lambda x: len(x) >= 20)\n",
    "plt.figure(figsize=(40,40))\n",
    "df_breed.boxplot(column = ['rating_clean'], by = ['dog_breed'], vert=False)\n",
    "plt.xlabel('rating')\n",
    "plt.ylabel('dog_breed')"
   ]
  },
  {
   "cell_type": "markdown",
   "metadata": {},
   "source": [
    "Note: The Samoyed and Eskimo breeds seems to be rated highly. It is to be noted that the SD for the ratings of these 2 dogs are also very small, which means that consensus of the these 2 breeds being well-regarded is high.  "
   ]
  },
  {
   "cell_type": "code",
   "execution_count": 43,
   "metadata": {},
   "outputs": [
    {
     "data": {
      "text/plain": [
       "Text(0,0.5,'dog_breed')"
      ]
     },
     "execution_count": 43,
     "metadata": {},
     "output_type": "execute_result"
    },
    {
     "data": {
      "image/png": "[encoded data removed]",
      "text/plain": [
       "<matplotlib.figure.Figure at 0x12fc7340d68>"
      ]
     },
     "metadata": {},
     "output_type": "display_data"
    }
   ],
   "source": [
    "#Stage 5e - Which Dog_Breed is the most commonly rated?\n",
    "df_breed = df_master.groupby('dog_breed').filter(lambda x: len(x) >= 20)\n",
    "plt.figure(figsize=(10,5))\n",
    "df_breed['dog_breed'].value_counts().plot(kind = 'barh')\n",
    "plt.title('Histogram of Most The Rated Breed')\n",
    "plt.xlabel('Count')\n",
    "plt.ylabel('dog_breed')"
   ]
  },
  {
   "cell_type": "markdown",
   "metadata": {},
   "source": [
    "Note: The Retrievers (both Golden and Labrador) seems to be the most popular type of dogs. "
   ]
  },
  {
   "cell_type": "code",
   "execution_count": 44,
   "metadata": {},
   "outputs": [
    {
     "data": {
      "text/plain": [
       "Text(0.5,1,'')"
      ]
     },
     "execution_count": 44,
     "metadata": {},
     "output_type": "execute_result"
    },
    {
     "data": {
      "image/png": "[encoded data removed]",
      "text/plain": [
       "<matplotlib.figure.Figure at 0x12fc7340b38>"
      ]
     },
     "metadata": {},
     "output_type": "display_data"
    }
   ],
   "source": [
    "#Stage 5f - Which Dog_Stage is rated highly?\n",
    "df_master[df_master['dog_stage'] != 'None'].boxplot(column = ['rating_clean'], by = ['dog_stage'])\n",
    "plt.title('')"
   ]
  },
  {
   "cell_type": "markdown",
   "metadata": {},
   "source": [
    "Note: Dogs at the stage of doggo and floofer seems to be the most popular."
   ]
  },
  {
   "cell_type": "code",
   "execution_count": 45,
   "metadata": {},
   "outputs": [
    {
     "data": {
      "text/plain": [
       "Text(0.5,1,'')"
      ]
     },
     "execution_count": 45,
     "metadata": {},
     "output_type": "execute_result"
    },
    {
     "data": {
      "image/png": "[encoded data removed]",
      "text/plain": [
       "<matplotlib.figure.Figure at 0x12fcab04668>"
      ]
     },
     "metadata": {},
     "output_type": "display_data"
    }
   ],
   "source": [
    "#Stage 5g - Which Dog_Gender is rated highly? Part I\n",
    "df_master[df_master['dog_gender'] != 'None'].boxplot(column = ['rating_clean'], by = ['dog_gender'])\n",
    "plt.title('')"
   ]
  },
  {
   "cell_type": "markdown",
   "metadata": {},
   "source": [
    "Note: There does not seem to be a preferance between genders, however female dogs seems to be slightly more popular (12 vs. 11)."
   ]
  },
  {
   "cell_type": "code",
   "execution_count": 46,
   "metadata": {},
   "outputs": [
    {
     "data": {
      "text/plain": [
       "Text(0,0.5,'dog_gender')"
      ]
     },
     "execution_count": 46,
     "metadata": {},
     "output_type": "execute_result"
    },
    {
     "data": {
      "image/png": "[encoded data removed]",
      "text/plain": [
       "<matplotlib.figure.Figure at 0x12fcac37438>"
      ]
     },
     "metadata": {},
     "output_type": "display_data"
    }
   ],
   "source": [
    "#Stage 5h - Which Dog_Gender is rated highly? - Part II\n",
    "df_master['dog_gender'].value_counts().plot(kind = 'barh')\n",
    "plt.title('Histogram of Most The Rated Dog Gender')\n",
    "plt.xlabel('Count')\n",
    "plt.ylabel('dog_gender')"
   ]
  },
  {
   "cell_type": "markdown",
   "metadata": {},
   "source": [
    "Note: The ratio of male dogs rated over female dogs is almost 3 times. "
   ]
  },
  {
   "cell_type": "markdown",
   "metadata": {},
   "source": [
    "### 2) Pattern - Is there a trend to be found in the tweets (favorites, followers, source and retweets)? "
   ]
  },
  {
   "cell_type": "code",
   "execution_count": 47,
   "metadata": {},
   "outputs": [
    {
     "data": {
      "text/plain": [
       "Text(0.5,1,'Correlation Map')"
      ]
     },
     "execution_count": 47,
     "metadata": {},
     "output_type": "execute_result"
    },
    {
     "data": {
      "image/png": "[encoded data removed]",
      "text/plain": [
       "<matplotlib.figure.Figure at 0x12fcac78da0>"
      ]
     },
     "metadata": {},
     "output_type": "display_data"
    }
   ],
   "source": [
    "#Stage 5i - Changing column types \n",
    "f,ax = plt.subplots(figsize=(18, 18))\n",
    "sns.heatmap(df_master[['tweet_source', 'tweet_favorites',\n",
    "                       'tweet_retweets', 'user_followers', \n",
    "                       'rating_clean',]].corr(), annot=True, linewidths=.5, fmt= '.1f',ax=ax)\n",
    "plt.title('Correlation Map')"
   ]
  },
  {
   "cell_type": "markdown",
   "metadata": {},
   "source": [
    "Correlation\n",
    "Postive: Strong correlation is observed between tweet_favorites and tweet_retweet. Which sorts of makes sense, if a tweet is considered a favorite, its chances of being retweeted is higher. \n",
    "\n",
    "Negative: Correlation is observed between user followers and retweet. Which was unexpected. Not sure why. \n",
    "\n",
    "Since ratings does not seem to be affected by whether they are followers, or being favorites, it can be said that the rating is \"as it is\" which can be considered a good thing. \n",
    "  "
   ]
  },
  {
   "cell_type": "markdown",
   "metadata": {},
   "source": [
    "#### Special Note About Ratings"
   ]
  },
  {
   "cell_type": "code",
   "execution_count": 48,
   "metadata": {},
   "outputs": [
    {
     "data": {
      "text/plain": [
       "count    1991.00000\n",
       "mean       10.54824\n",
       "std         2.19720\n",
       "min         0.00000\n",
       "25%        10.00000\n",
       "50%        11.00000\n",
       "75%        12.00000\n",
       "max        15.00000\n",
       "Name: rating_clean, dtype: float64"
      ]
     },
     "execution_count": 48,
     "metadata": {},
     "output_type": "execute_result"
    }
   ],
   "source": [
    "#Stage 5j - Investigating Ratings - Notes\n",
    "df_master['rating_clean'].describe()"
   ]
  },
  {
   "cell_type": "markdown",
   "metadata": {},
   "source": [
    "## Stage 5 - Analysing and Visualing the Data\n",
    "\n",
    "Note: \n",
    "As observed earlier, the ratings that the dogs have been given sometimes exceed more than 10. In fact, from the spread of the rating, it can be concluded that the rating is actually unreliable, as more than 75% of the data has more than 12/10 as rating with the mean as 10 (out of 10). Therefore the rating, should be reviewed (or a process to ensure that it remains reasonable). Or it should be changed more to a vote (to assess popularity) since the ratings or crazy. "
   ]
  },
  {
   "cell_type": "markdown",
   "metadata": {},
   "source": [
    "## Conclusion\n",
    "\n",
    "Based on the data procured, the answer to the research question is: \n",
    "Dogs that are at the floofer and doggo stage (regardless of breed) are likley to get the better ratings. This is your best bet to get higher ratings. \n"
   ]
  },
  {
   "cell_type": "markdown",
   "metadata": {},
   "source": [
    "#### References:\n",
    "\n",
    "Coding for Correlation Heatmap is copied from (https://stackoverflow.com/questions/39409866/correlation-heatmap)\n",
    "Seaborn Heatmap (https://seaborn.pydata.org/generated/seaborn.heatmap.html)\n",
    "\n",
    "Calculation and Visualization of Correlation Matrix with Pandas \n",
    "(https://datascience.stackexchange.com/questions/10459/calculation-and-visualization-of-correlation-matrix-with-pandas)\n",
    "\n",
    "Extract Names (https://gist.github.com/markandey)\n",
    "\n",
    "pandas Documentation (Several). Eg. \n",
    "pandas Documentation on startswith. (https://pandas.pydata.org/pandas-docs/stable/generated/pandas.Series.str.startswith.html)\n",
    "pandas Documentation on plotting.https://pandas.pydata.org/pandas-docs/stable/generated/pandas.DataFrame.plot.html\n",
    "\n",
    "Rival S. (2016). Twitter Sentiment Analysis - Learn Python for Data Science #2. (https://www.youtube.com/watch?v=o_OZdbCzHUA)\n",
    "\n",
    "Stack Overflow - pandas select from Dataframe using startswith. (https://stackoverflow.com/questions/17957890/pandas-select-from-dataframe-using-startswith)\n",
    "\n",
    "Stack Overflow - Remove outliers (+/- 3 std) and replace with np.nan in Python/pandas\n",
    "s (https://stackoverflow.com/questions/29740216/remove-outliers-3-std-and-replace-with-np-nan-in-python-pandas?noredirect=1&lq=1_\n",
    "\n",
    "Style of the plots (http://tonysyu.github.io/raw_content/matplotlib-style-gallery/gallery.html)\n",
    "\n"
   ]
  },
  {
   "cell_type": "markdown",
   "metadata": {},
   "source": [
    "- End of Report -"
   ]
  }
 ],
 "metadata": {
  "kernelspec": {
   "display_name": "Python 3",
   "language": "python",
   "name": "python3"
  },
  "language_info": {
   "codemirror_mode": {
    "name": "ipython",
    "version": 3
   },
   "file_extension": ".py",
   "mimetype": "text/x-python",
   "name": "python",
   "nbconvert_exporter": "python",
   "pygments_lexer": "ipython3",
   "version": "3.6.4"
  }
 },
 "nbformat": 4,
 "nbformat_minor": 2
}
